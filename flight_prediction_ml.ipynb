{
  "nbformat": 4,
  "nbformat_minor": 0,
  "metadata": {
    "colab": {
      "name": "flight_prediction_ml.ipynb",
      "provenance": [],
      "collapsed_sections": []
    },
    "kernelspec": {
      "name": "python3",
      "display_name": "Python 3"
    },
    "language_info": {
      "name": "python"
    }
  },
  "cells": [
    {
      "cell_type": "code",
      "metadata": {
        "id": "DnqDBgXuN1rj"
      },
      "source": [
        "import matplotlib.pyplot as plt\n",
        "from sklearn.neighbors import KNeighborsClassifier\n",
        "import pandas as pd\n",
        "import numpy as np\n",
        "import os"
      ],
      "execution_count": null,
      "outputs": []
    },
    {
      "cell_type": "code",
      "metadata": {
        "id": "enicl-X6SoAx"
      },
      "source": [
        "# Code to read csv file into Colaboratory:\n",
        "!pip install -U -q PyDrive\n",
        "from pydrive.auth import GoogleAuth\n",
        "from pydrive.drive import GoogleDrive\n",
        "from google.colab import auth\n",
        "from oauth2client.client import GoogleCredentials\n",
        "# Authenticate and create the PyDrive client.\n",
        "auth.authenticate_user()\n",
        "gauth = GoogleAuth()\n",
        "gauth.credentials = GoogleCredentials.get_application_default()\n",
        "drive = GoogleDrive(gauth)"
      ],
      "execution_count": null,
      "outputs": []
    },
    {
      "cell_type": "code",
      "metadata": {
        "id": "MZHDXCcFTG8w"
      },
      "source": [
        "# URL to data file saved in google drive (output_data.csv)\n",
        "link = 'https://drive.google.com/open?id=1r3FcsKcEPJHeHE2YoR82I82zvbibiK0l'"
      ],
      "execution_count": null,
      "outputs": []
    },
    {
      "cell_type": "code",
      "metadata": {
        "colab": {
          "base_uri": "https://localhost:8080/"
        },
        "id": "J35IoKfbUEyq",
        "outputId": "f9ae5d43-9322-43a6-ddb9-5feb33cba525"
      },
      "source": [
        "# Extract ID from google drive link\n",
        "fluff, id = link.split('=')\n",
        "print (id) # Verify that you have everything after '='"
      ],
      "execution_count": null,
      "outputs": [
        {
          "output_type": "stream",
          "text": [
            "1r3FcsKcEPJHeHE2YoR82I82zvbibiK0l\n"
          ],
          "name": "stdout"
        }
      ]
    },
    {
      "cell_type": "code",
      "metadata": {
        "colab": {
          "base_uri": "https://localhost:8080/",
          "height": 305
        },
        "id": "8LOHZjT2UIca",
        "outputId": "0541a704-caae-4070-c2cc-4c981605fd80"
      },
      "source": [
        "# Load data\n",
        "downloaded = drive.CreateFile({'id':id}) \n",
        "downloaded.GetContentFile('output_data.csv')  \n",
        "df3 = pd.read_csv('output_data.csv')\n",
        "# Dataset is now stored in a Pandas Dataframe\n",
        "\n",
        "df3.head()"
      ],
      "execution_count": null,
      "outputs": [
        {
          "output_type": "execute_result",
          "data": {
            "text/html": [
              "<div>\n",
              "<style scoped>\n",
              "    .dataframe tbody tr th:only-of-type {\n",
              "        vertical-align: middle;\n",
              "    }\n",
              "\n",
              "    .dataframe tbody tr th {\n",
              "        vertical-align: top;\n",
              "    }\n",
              "\n",
              "    .dataframe thead th {\n",
              "        text-align: right;\n",
              "    }\n",
              "</style>\n",
              "<table border=\"1\" class=\"dataframe\">\n",
              "  <thead>\n",
              "    <tr style=\"text-align: right;\">\n",
              "      <th></th>\n",
              "      <th>FL_DATE</th>\n",
              "      <th>OP_CARRIER</th>\n",
              "      <th>OP_CARRIER_FL_NUM</th>\n",
              "      <th>ORIGIN</th>\n",
              "      <th>DEST</th>\n",
              "      <th>CRS_DEP_TIME</th>\n",
              "      <th>DEP_TIME</th>\n",
              "      <th>DEP_DELAY</th>\n",
              "      <th>CANCELLED</th>\n",
              "      <th>CANCELLATION_CODE</th>\n",
              "      <th>DIVERTED</th>\n",
              "      <th>CRS_ELAPSED_TIME</th>\n",
              "      <th>ACTUAL_ELAPSED_TIME</th>\n",
              "      <th>AIR_TIME</th>\n",
              "      <th>DISTANCE</th>\n",
              "      <th>CARRIER_DELAY</th>\n",
              "      <th>WEATHER_DELAY</th>\n",
              "      <th>NAS_DELAY</th>\n",
              "      <th>SECURITY_DELAY</th>\n",
              "      <th>LATE_AIRCRAFT_DELAY</th>\n",
              "      <th>country_code</th>\n",
              "      <th>airport_name</th>\n",
              "      <th>dest_longitude</th>\n",
              "      <th>dest_latitude</th>\n",
              "      <th>org_longitude</th>\n",
              "      <th>org_latitude</th>\n",
              "    </tr>\n",
              "  </thead>\n",
              "  <tbody>\n",
              "    <tr>\n",
              "      <th>0</th>\n",
              "      <td>2017-01-01</td>\n",
              "      <td>AA</td>\n",
              "      <td>25</td>\n",
              "      <td>ORD</td>\n",
              "      <td>LAS</td>\n",
              "      <td>1705</td>\n",
              "      <td>1707.0</td>\n",
              "      <td>2.0</td>\n",
              "      <td>0.0</td>\n",
              "      <td>NaN</td>\n",
              "      <td>0.0</td>\n",
              "      <td>242.0</td>\n",
              "      <td>248.0</td>\n",
              "      <td>218.0</td>\n",
              "      <td>1514.0</td>\n",
              "      <td>NaN</td>\n",
              "      <td>NaN</td>\n",
              "      <td>NaN</td>\n",
              "      <td>NaN</td>\n",
              "      <td>NaN</td>\n",
              "      <td>US</td>\n",
              "      <td>Mc Carran Intl</td>\n",
              "      <td>-115.15225</td>\n",
              "      <td>36.080056</td>\n",
              "      <td>-87.904842</td>\n",
              "      <td>41.978603</td>\n",
              "    </tr>\n",
              "    <tr>\n",
              "      <th>1</th>\n",
              "      <td>2017-01-01</td>\n",
              "      <td>AA</td>\n",
              "      <td>300</td>\n",
              "      <td>ORD</td>\n",
              "      <td>LAS</td>\n",
              "      <td>1235</td>\n",
              "      <td>1232.0</td>\n",
              "      <td>-3.0</td>\n",
              "      <td>0.0</td>\n",
              "      <td>NaN</td>\n",
              "      <td>0.0</td>\n",
              "      <td>241.0</td>\n",
              "      <td>226.0</td>\n",
              "      <td>208.0</td>\n",
              "      <td>1514.0</td>\n",
              "      <td>NaN</td>\n",
              "      <td>NaN</td>\n",
              "      <td>NaN</td>\n",
              "      <td>NaN</td>\n",
              "      <td>NaN</td>\n",
              "      <td>US</td>\n",
              "      <td>Mc Carran Intl</td>\n",
              "      <td>-115.15225</td>\n",
              "      <td>36.080056</td>\n",
              "      <td>-87.904842</td>\n",
              "      <td>41.978603</td>\n",
              "    </tr>\n",
              "    <tr>\n",
              "      <th>2</th>\n",
              "      <td>2017-01-01</td>\n",
              "      <td>NK</td>\n",
              "      <td>245</td>\n",
              "      <td>ORD</td>\n",
              "      <td>LAS</td>\n",
              "      <td>1518</td>\n",
              "      <td>1507.0</td>\n",
              "      <td>-11.0</td>\n",
              "      <td>0.0</td>\n",
              "      <td>NaN</td>\n",
              "      <td>0.0</td>\n",
              "      <td>234.0</td>\n",
              "      <td>223.0</td>\n",
              "      <td>200.0</td>\n",
              "      <td>1514.0</td>\n",
              "      <td>NaN</td>\n",
              "      <td>NaN</td>\n",
              "      <td>NaN</td>\n",
              "      <td>NaN</td>\n",
              "      <td>NaN</td>\n",
              "      <td>US</td>\n",
              "      <td>Mc Carran Intl</td>\n",
              "      <td>-115.15225</td>\n",
              "      <td>36.080056</td>\n",
              "      <td>-87.904842</td>\n",
              "      <td>41.978603</td>\n",
              "    </tr>\n",
              "    <tr>\n",
              "      <th>3</th>\n",
              "      <td>2017-01-01</td>\n",
              "      <td>NK</td>\n",
              "      <td>357</td>\n",
              "      <td>ORD</td>\n",
              "      <td>LAS</td>\n",
              "      <td>927</td>\n",
              "      <td>1204.0</td>\n",
              "      <td>157.0</td>\n",
              "      <td>0.0</td>\n",
              "      <td>NaN</td>\n",
              "      <td>0.0</td>\n",
              "      <td>237.0</td>\n",
              "      <td>210.0</td>\n",
              "      <td>193.0</td>\n",
              "      <td>1514.0</td>\n",
              "      <td>0.0</td>\n",
              "      <td>0.0</td>\n",
              "      <td>130.0</td>\n",
              "      <td>0.0</td>\n",
              "      <td>0.0</td>\n",
              "      <td>US</td>\n",
              "      <td>Mc Carran Intl</td>\n",
              "      <td>-115.15225</td>\n",
              "      <td>36.080056</td>\n",
              "      <td>-87.904842</td>\n",
              "      <td>41.978603</td>\n",
              "    </tr>\n",
              "    <tr>\n",
              "      <th>4</th>\n",
              "      <td>2017-01-01</td>\n",
              "      <td>UA</td>\n",
              "      <td>599</td>\n",
              "      <td>ORD</td>\n",
              "      <td>LAS</td>\n",
              "      <td>1940</td>\n",
              "      <td>1945.0</td>\n",
              "      <td>5.0</td>\n",
              "      <td>0.0</td>\n",
              "      <td>NaN</td>\n",
              "      <td>0.0</td>\n",
              "      <td>236.0</td>\n",
              "      <td>234.0</td>\n",
              "      <td>209.0</td>\n",
              "      <td>1514.0</td>\n",
              "      <td>NaN</td>\n",
              "      <td>NaN</td>\n",
              "      <td>NaN</td>\n",
              "      <td>NaN</td>\n",
              "      <td>NaN</td>\n",
              "      <td>US</td>\n",
              "      <td>Mc Carran Intl</td>\n",
              "      <td>-115.15225</td>\n",
              "      <td>36.080056</td>\n",
              "      <td>-87.904842</td>\n",
              "      <td>41.978603</td>\n",
              "    </tr>\n",
              "  </tbody>\n",
              "</table>\n",
              "</div>"
            ],
            "text/plain": [
              "      FL_DATE OP_CARRIER  ...  org_longitude org_latitude\n",
              "0  2017-01-01         AA  ...     -87.904842    41.978603\n",
              "1  2017-01-01         AA  ...     -87.904842    41.978603\n",
              "2  2017-01-01         NK  ...     -87.904842    41.978603\n",
              "3  2017-01-01         NK  ...     -87.904842    41.978603\n",
              "4  2017-01-01         UA  ...     -87.904842    41.978603\n",
              "\n",
              "[5 rows x 26 columns]"
            ]
          },
          "metadata": {
            "tags": []
          },
          "execution_count": 5
        }
      ]
    },
    {
      "cell_type": "code",
      "metadata": {
        "colab": {
          "base_uri": "https://localhost:8080/",
          "height": 305
        },
        "id": "xoMMMJufY_il",
        "outputId": "908d86e3-f141-4882-90b6-aac4a1e75e04"
      },
      "source": [
        "# Categorize each flight in binary terms\n",
        "df3.loc[df3['DEP_DELAY'] >= 20, 'DELAYED'] = 'Delayed'\n",
        "df3.loc[df3['DEP_DELAY'] < 20, 'DELAYED'] = 'Not Delayed'\n",
        "\n",
        "df3.head()"
      ],
      "execution_count": null,
      "outputs": [
        {
          "output_type": "execute_result",
          "data": {
            "text/html": [
              "<div>\n",
              "<style scoped>\n",
              "    .dataframe tbody tr th:only-of-type {\n",
              "        vertical-align: middle;\n",
              "    }\n",
              "\n",
              "    .dataframe tbody tr th {\n",
              "        vertical-align: top;\n",
              "    }\n",
              "\n",
              "    .dataframe thead th {\n",
              "        text-align: right;\n",
              "    }\n",
              "</style>\n",
              "<table border=\"1\" class=\"dataframe\">\n",
              "  <thead>\n",
              "    <tr style=\"text-align: right;\">\n",
              "      <th></th>\n",
              "      <th>FL_DATE</th>\n",
              "      <th>OP_CARRIER</th>\n",
              "      <th>OP_CARRIER_FL_NUM</th>\n",
              "      <th>ORIGIN</th>\n",
              "      <th>DEST</th>\n",
              "      <th>CRS_DEP_TIME</th>\n",
              "      <th>DEP_TIME</th>\n",
              "      <th>DEP_DELAY</th>\n",
              "      <th>CANCELLED</th>\n",
              "      <th>CANCELLATION_CODE</th>\n",
              "      <th>DIVERTED</th>\n",
              "      <th>CRS_ELAPSED_TIME</th>\n",
              "      <th>ACTUAL_ELAPSED_TIME</th>\n",
              "      <th>AIR_TIME</th>\n",
              "      <th>DISTANCE</th>\n",
              "      <th>CARRIER_DELAY</th>\n",
              "      <th>WEATHER_DELAY</th>\n",
              "      <th>NAS_DELAY</th>\n",
              "      <th>SECURITY_DELAY</th>\n",
              "      <th>LATE_AIRCRAFT_DELAY</th>\n",
              "      <th>country_code</th>\n",
              "      <th>airport_name</th>\n",
              "      <th>dest_longitude</th>\n",
              "      <th>dest_latitude</th>\n",
              "      <th>org_longitude</th>\n",
              "      <th>org_latitude</th>\n",
              "      <th>DELAYED</th>\n",
              "    </tr>\n",
              "  </thead>\n",
              "  <tbody>\n",
              "    <tr>\n",
              "      <th>0</th>\n",
              "      <td>2017-01-01</td>\n",
              "      <td>AA</td>\n",
              "      <td>25</td>\n",
              "      <td>ORD</td>\n",
              "      <td>LAS</td>\n",
              "      <td>1705</td>\n",
              "      <td>1707.0</td>\n",
              "      <td>2.0</td>\n",
              "      <td>0.0</td>\n",
              "      <td>NaN</td>\n",
              "      <td>0.0</td>\n",
              "      <td>242.0</td>\n",
              "      <td>248.0</td>\n",
              "      <td>218.0</td>\n",
              "      <td>1514.0</td>\n",
              "      <td>NaN</td>\n",
              "      <td>NaN</td>\n",
              "      <td>NaN</td>\n",
              "      <td>NaN</td>\n",
              "      <td>NaN</td>\n",
              "      <td>US</td>\n",
              "      <td>Mc Carran Intl</td>\n",
              "      <td>-115.15225</td>\n",
              "      <td>36.080056</td>\n",
              "      <td>-87.904842</td>\n",
              "      <td>41.978603</td>\n",
              "      <td>Not Delayed</td>\n",
              "    </tr>\n",
              "    <tr>\n",
              "      <th>1</th>\n",
              "      <td>2017-01-01</td>\n",
              "      <td>AA</td>\n",
              "      <td>300</td>\n",
              "      <td>ORD</td>\n",
              "      <td>LAS</td>\n",
              "      <td>1235</td>\n",
              "      <td>1232.0</td>\n",
              "      <td>-3.0</td>\n",
              "      <td>0.0</td>\n",
              "      <td>NaN</td>\n",
              "      <td>0.0</td>\n",
              "      <td>241.0</td>\n",
              "      <td>226.0</td>\n",
              "      <td>208.0</td>\n",
              "      <td>1514.0</td>\n",
              "      <td>NaN</td>\n",
              "      <td>NaN</td>\n",
              "      <td>NaN</td>\n",
              "      <td>NaN</td>\n",
              "      <td>NaN</td>\n",
              "      <td>US</td>\n",
              "      <td>Mc Carran Intl</td>\n",
              "      <td>-115.15225</td>\n",
              "      <td>36.080056</td>\n",
              "      <td>-87.904842</td>\n",
              "      <td>41.978603</td>\n",
              "      <td>Not Delayed</td>\n",
              "    </tr>\n",
              "    <tr>\n",
              "      <th>2</th>\n",
              "      <td>2017-01-01</td>\n",
              "      <td>NK</td>\n",
              "      <td>245</td>\n",
              "      <td>ORD</td>\n",
              "      <td>LAS</td>\n",
              "      <td>1518</td>\n",
              "      <td>1507.0</td>\n",
              "      <td>-11.0</td>\n",
              "      <td>0.0</td>\n",
              "      <td>NaN</td>\n",
              "      <td>0.0</td>\n",
              "      <td>234.0</td>\n",
              "      <td>223.0</td>\n",
              "      <td>200.0</td>\n",
              "      <td>1514.0</td>\n",
              "      <td>NaN</td>\n",
              "      <td>NaN</td>\n",
              "      <td>NaN</td>\n",
              "      <td>NaN</td>\n",
              "      <td>NaN</td>\n",
              "      <td>US</td>\n",
              "      <td>Mc Carran Intl</td>\n",
              "      <td>-115.15225</td>\n",
              "      <td>36.080056</td>\n",
              "      <td>-87.904842</td>\n",
              "      <td>41.978603</td>\n",
              "      <td>Not Delayed</td>\n",
              "    </tr>\n",
              "    <tr>\n",
              "      <th>3</th>\n",
              "      <td>2017-01-01</td>\n",
              "      <td>NK</td>\n",
              "      <td>357</td>\n",
              "      <td>ORD</td>\n",
              "      <td>LAS</td>\n",
              "      <td>927</td>\n",
              "      <td>1204.0</td>\n",
              "      <td>157.0</td>\n",
              "      <td>0.0</td>\n",
              "      <td>NaN</td>\n",
              "      <td>0.0</td>\n",
              "      <td>237.0</td>\n",
              "      <td>210.0</td>\n",
              "      <td>193.0</td>\n",
              "      <td>1514.0</td>\n",
              "      <td>0.0</td>\n",
              "      <td>0.0</td>\n",
              "      <td>130.0</td>\n",
              "      <td>0.0</td>\n",
              "      <td>0.0</td>\n",
              "      <td>US</td>\n",
              "      <td>Mc Carran Intl</td>\n",
              "      <td>-115.15225</td>\n",
              "      <td>36.080056</td>\n",
              "      <td>-87.904842</td>\n",
              "      <td>41.978603</td>\n",
              "      <td>Delayed</td>\n",
              "    </tr>\n",
              "    <tr>\n",
              "      <th>4</th>\n",
              "      <td>2017-01-01</td>\n",
              "      <td>UA</td>\n",
              "      <td>599</td>\n",
              "      <td>ORD</td>\n",
              "      <td>LAS</td>\n",
              "      <td>1940</td>\n",
              "      <td>1945.0</td>\n",
              "      <td>5.0</td>\n",
              "      <td>0.0</td>\n",
              "      <td>NaN</td>\n",
              "      <td>0.0</td>\n",
              "      <td>236.0</td>\n",
              "      <td>234.0</td>\n",
              "      <td>209.0</td>\n",
              "      <td>1514.0</td>\n",
              "      <td>NaN</td>\n",
              "      <td>NaN</td>\n",
              "      <td>NaN</td>\n",
              "      <td>NaN</td>\n",
              "      <td>NaN</td>\n",
              "      <td>US</td>\n",
              "      <td>Mc Carran Intl</td>\n",
              "      <td>-115.15225</td>\n",
              "      <td>36.080056</td>\n",
              "      <td>-87.904842</td>\n",
              "      <td>41.978603</td>\n",
              "      <td>Not Delayed</td>\n",
              "    </tr>\n",
              "  </tbody>\n",
              "</table>\n",
              "</div>"
            ],
            "text/plain": [
              "      FL_DATE OP_CARRIER  ...  org_latitude      DELAYED\n",
              "0  2017-01-01         AA  ...     41.978603  Not Delayed\n",
              "1  2017-01-01         AA  ...     41.978603  Not Delayed\n",
              "2  2017-01-01         NK  ...     41.978603  Not Delayed\n",
              "3  2017-01-01         NK  ...     41.978603      Delayed\n",
              "4  2017-01-01         UA  ...     41.978603  Not Delayed\n",
              "\n",
              "[5 rows x 27 columns]"
            ]
          },
          "metadata": {
            "tags": []
          },
          "execution_count": 6
        }
      ]
    },
    {
      "cell_type": "code",
      "metadata": {
        "colab": {
          "base_uri": "https://localhost:8080/",
          "height": 414
        },
        "id": "OXamoUywUlXI",
        "outputId": "e7163180-caeb-42d5-84d5-16e4e7d8d7d0"
      },
      "source": [
        "# Drop unecessary series data\n",
        "data = df3.drop([\"CANCELLED\",\"OP_CARRIER\",\"ORIGIN\",\"DEST\",\"OP_CARRIER_FL_NUM\",\"DEP_TIME\",\"DEP_DELAY\",\"CANCELLATION_CODE\",\"DIVERTED\",\"CRS_ELAPSED_TIME\",\"ACTUAL_ELAPSED_TIME\",\"AIR_TIME\",\"CARRIER_DELAY\",\"WEATHER_DELAY\", \"NAS_DELAY\", \"SECURITY_DELAY\", \"LATE_AIRCRAFT_DELAY\", \"country_code\", \"airport_name\", \"org_longitude\", \"org_latitude\"], axis=1)\n",
        "\n",
        "# Drop rows with blank values\n",
        "data2 = data.dropna()\n",
        "\n",
        "data2"
      ],
      "execution_count": null,
      "outputs": [
        {
          "output_type": "execute_result",
          "data": {
            "text/html": [
              "<div>\n",
              "<style scoped>\n",
              "    .dataframe tbody tr th:only-of-type {\n",
              "        vertical-align: middle;\n",
              "    }\n",
              "\n",
              "    .dataframe tbody tr th {\n",
              "        vertical-align: top;\n",
              "    }\n",
              "\n",
              "    .dataframe thead th {\n",
              "        text-align: right;\n",
              "    }\n",
              "</style>\n",
              "<table border=\"1\" class=\"dataframe\">\n",
              "  <thead>\n",
              "    <tr style=\"text-align: right;\">\n",
              "      <th></th>\n",
              "      <th>FL_DATE</th>\n",
              "      <th>CRS_DEP_TIME</th>\n",
              "      <th>DISTANCE</th>\n",
              "      <th>dest_longitude</th>\n",
              "      <th>dest_latitude</th>\n",
              "      <th>DELAYED</th>\n",
              "    </tr>\n",
              "  </thead>\n",
              "  <tbody>\n",
              "    <tr>\n",
              "      <th>0</th>\n",
              "      <td>2017-01-01</td>\n",
              "      <td>1705</td>\n",
              "      <td>1514.0</td>\n",
              "      <td>-115.152250</td>\n",
              "      <td>36.080056</td>\n",
              "      <td>Not Delayed</td>\n",
              "    </tr>\n",
              "    <tr>\n",
              "      <th>1</th>\n",
              "      <td>2017-01-01</td>\n",
              "      <td>1235</td>\n",
              "      <td>1514.0</td>\n",
              "      <td>-115.152250</td>\n",
              "      <td>36.080056</td>\n",
              "      <td>Not Delayed</td>\n",
              "    </tr>\n",
              "    <tr>\n",
              "      <th>2</th>\n",
              "      <td>2017-01-01</td>\n",
              "      <td>1518</td>\n",
              "      <td>1514.0</td>\n",
              "      <td>-115.152250</td>\n",
              "      <td>36.080056</td>\n",
              "      <td>Not Delayed</td>\n",
              "    </tr>\n",
              "    <tr>\n",
              "      <th>3</th>\n",
              "      <td>2017-01-01</td>\n",
              "      <td>927</td>\n",
              "      <td>1514.0</td>\n",
              "      <td>-115.152250</td>\n",
              "      <td>36.080056</td>\n",
              "      <td>Delayed</td>\n",
              "    </tr>\n",
              "    <tr>\n",
              "      <th>4</th>\n",
              "      <td>2017-01-01</td>\n",
              "      <td>1940</td>\n",
              "      <td>1514.0</td>\n",
              "      <td>-115.152250</td>\n",
              "      <td>36.080056</td>\n",
              "      <td>Not Delayed</td>\n",
              "    </tr>\n",
              "    <tr>\n",
              "      <th>...</th>\n",
              "      <td>...</td>\n",
              "      <td>...</td>\n",
              "      <td>...</td>\n",
              "      <td>...</td>\n",
              "      <td>...</td>\n",
              "      <td>...</td>\n",
              "    </tr>\n",
              "    <tr>\n",
              "      <th>585733</th>\n",
              "      <td>2018-12-15</td>\n",
              "      <td>1351</td>\n",
              "      <td>1219.0</td>\n",
              "      <td>-97.654389</td>\n",
              "      <td>26.228500</td>\n",
              "      <td>Not Delayed</td>\n",
              "    </tr>\n",
              "    <tr>\n",
              "      <th>585734</th>\n",
              "      <td>2018-12-19</td>\n",
              "      <td>1351</td>\n",
              "      <td>1219.0</td>\n",
              "      <td>-97.654389</td>\n",
              "      <td>26.228500</td>\n",
              "      <td>Not Delayed</td>\n",
              "    </tr>\n",
              "    <tr>\n",
              "      <th>585735</th>\n",
              "      <td>2018-12-22</td>\n",
              "      <td>1351</td>\n",
              "      <td>1219.0</td>\n",
              "      <td>-97.654389</td>\n",
              "      <td>26.228500</td>\n",
              "      <td>Not Delayed</td>\n",
              "    </tr>\n",
              "    <tr>\n",
              "      <th>585736</th>\n",
              "      <td>2018-12-26</td>\n",
              "      <td>1351</td>\n",
              "      <td>1219.0</td>\n",
              "      <td>-97.654389</td>\n",
              "      <td>26.228500</td>\n",
              "      <td>Not Delayed</td>\n",
              "    </tr>\n",
              "    <tr>\n",
              "      <th>585737</th>\n",
              "      <td>2018-12-29</td>\n",
              "      <td>1351</td>\n",
              "      <td>1219.0</td>\n",
              "      <td>-97.654389</td>\n",
              "      <td>26.228500</td>\n",
              "      <td>Not Delayed</td>\n",
              "    </tr>\n",
              "  </tbody>\n",
              "</table>\n",
              "<p>575788 rows × 6 columns</p>\n",
              "</div>"
            ],
            "text/plain": [
              "           FL_DATE  CRS_DEP_TIME  ...  dest_latitude      DELAYED\n",
              "0       2017-01-01          1705  ...      36.080056  Not Delayed\n",
              "1       2017-01-01          1235  ...      36.080056  Not Delayed\n",
              "2       2017-01-01          1518  ...      36.080056  Not Delayed\n",
              "3       2017-01-01           927  ...      36.080056      Delayed\n",
              "4       2017-01-01          1940  ...      36.080056  Not Delayed\n",
              "...            ...           ...  ...            ...          ...\n",
              "585733  2018-12-15          1351  ...      26.228500  Not Delayed\n",
              "585734  2018-12-19          1351  ...      26.228500  Not Delayed\n",
              "585735  2018-12-22          1351  ...      26.228500  Not Delayed\n",
              "585736  2018-12-26          1351  ...      26.228500  Not Delayed\n",
              "585737  2018-12-29          1351  ...      26.228500  Not Delayed\n",
              "\n",
              "[575788 rows x 6 columns]"
            ]
          },
          "metadata": {
            "tags": []
          },
          "execution_count": 7
        }
      ]
    },
    {
      "cell_type": "code",
      "metadata": {
        "colab": {
          "base_uri": "https://localhost:8080/",
          "height": 402
        },
        "id": "ji9vCsj9shBR",
        "outputId": "9123069f-ac82-40b6-e113-8e07666db257"
      },
      "source": [
        "# Extract month from flight date and save as new series\n",
        "data2['FL_DATE']= pd.to_datetime(data2['FL_DATE'])\n",
        "data2['MONTH'] = pd.DatetimeIndex(data2['FL_DATE']).month\n",
        "\n",
        "# Drop original date column\n",
        "data3 = data2.drop([\"FL_DATE\"],axis=1)\n",
        "\n",
        "# Clean latitude and longitude values\n",
        "decimals = 3   \n",
        "data3['dest_longitude'] = data3['dest_longitude'].apply(lambda x: round(x, decimals))\n",
        "data3['dest_latitude'] = data3['dest_latitude'].apply(lambda x: round(x, decimals))\n",
        "\n",
        "feature_names = data3.columns\n",
        "\n",
        "data3.head()"
      ],
      "execution_count": null,
      "outputs": [
        {
          "output_type": "stream",
          "text": [
            "/usr/local/lib/python3.7/dist-packages/ipykernel_launcher.py:2: SettingWithCopyWarning: \n",
            "A value is trying to be set on a copy of a slice from a DataFrame.\n",
            "Try using .loc[row_indexer,col_indexer] = value instead\n",
            "\n",
            "See the caveats in the documentation: https://pandas.pydata.org/pandas-docs/stable/user_guide/indexing.html#returning-a-view-versus-a-copy\n",
            "  \n",
            "/usr/local/lib/python3.7/dist-packages/ipykernel_launcher.py:3: SettingWithCopyWarning: \n",
            "A value is trying to be set on a copy of a slice from a DataFrame.\n",
            "Try using .loc[row_indexer,col_indexer] = value instead\n",
            "\n",
            "See the caveats in the documentation: https://pandas.pydata.org/pandas-docs/stable/user_guide/indexing.html#returning-a-view-versus-a-copy\n",
            "  This is separate from the ipykernel package so we can avoid doing imports until\n"
          ],
          "name": "stderr"
        },
        {
          "output_type": "execute_result",
          "data": {
            "text/html": [
              "<div>\n",
              "<style scoped>\n",
              "    .dataframe tbody tr th:only-of-type {\n",
              "        vertical-align: middle;\n",
              "    }\n",
              "\n",
              "    .dataframe tbody tr th {\n",
              "        vertical-align: top;\n",
              "    }\n",
              "\n",
              "    .dataframe thead th {\n",
              "        text-align: right;\n",
              "    }\n",
              "</style>\n",
              "<table border=\"1\" class=\"dataframe\">\n",
              "  <thead>\n",
              "    <tr style=\"text-align: right;\">\n",
              "      <th></th>\n",
              "      <th>CRS_DEP_TIME</th>\n",
              "      <th>DISTANCE</th>\n",
              "      <th>dest_longitude</th>\n",
              "      <th>dest_latitude</th>\n",
              "      <th>DELAYED</th>\n",
              "      <th>MONTH</th>\n",
              "    </tr>\n",
              "  </thead>\n",
              "  <tbody>\n",
              "    <tr>\n",
              "      <th>0</th>\n",
              "      <td>1705</td>\n",
              "      <td>1514.0</td>\n",
              "      <td>-115.152</td>\n",
              "      <td>36.08</td>\n",
              "      <td>Not Delayed</td>\n",
              "      <td>1</td>\n",
              "    </tr>\n",
              "    <tr>\n",
              "      <th>1</th>\n",
              "      <td>1235</td>\n",
              "      <td>1514.0</td>\n",
              "      <td>-115.152</td>\n",
              "      <td>36.08</td>\n",
              "      <td>Not Delayed</td>\n",
              "      <td>1</td>\n",
              "    </tr>\n",
              "    <tr>\n",
              "      <th>2</th>\n",
              "      <td>1518</td>\n",
              "      <td>1514.0</td>\n",
              "      <td>-115.152</td>\n",
              "      <td>36.08</td>\n",
              "      <td>Not Delayed</td>\n",
              "      <td>1</td>\n",
              "    </tr>\n",
              "    <tr>\n",
              "      <th>3</th>\n",
              "      <td>927</td>\n",
              "      <td>1514.0</td>\n",
              "      <td>-115.152</td>\n",
              "      <td>36.08</td>\n",
              "      <td>Delayed</td>\n",
              "      <td>1</td>\n",
              "    </tr>\n",
              "    <tr>\n",
              "      <th>4</th>\n",
              "      <td>1940</td>\n",
              "      <td>1514.0</td>\n",
              "      <td>-115.152</td>\n",
              "      <td>36.08</td>\n",
              "      <td>Not Delayed</td>\n",
              "      <td>1</td>\n",
              "    </tr>\n",
              "  </tbody>\n",
              "</table>\n",
              "</div>"
            ],
            "text/plain": [
              "   CRS_DEP_TIME  DISTANCE  dest_longitude  dest_latitude      DELAYED  MONTH\n",
              "0          1705    1514.0        -115.152          36.08  Not Delayed      1\n",
              "1          1235    1514.0        -115.152          36.08  Not Delayed      1\n",
              "2          1518    1514.0        -115.152          36.08  Not Delayed      1\n",
              "3           927    1514.0        -115.152          36.08      Delayed      1\n",
              "4          1940    1514.0        -115.152          36.08  Not Delayed      1"
            ]
          },
          "metadata": {
            "tags": []
          },
          "execution_count": 8
        }
      ]
    },
    {
      "cell_type": "code",
      "metadata": {
        "id": "JlTQ13zdthha"
      },
      "source": [
        "# Define classification target\n",
        "target = data3[\"DELAYED\"]\n",
        "target_names = [\"Not Delayed\", \"Delayed\"]"
      ],
      "execution_count": null,
      "outputs": []
    },
    {
      "cell_type": "code",
      "metadata": {
        "id": "LgHQQBX5u2Vp"
      },
      "source": [
        "# Drop non-integer column before passing through model\n",
        "data4 = data3.drop(['DELAYED'], axis =1)"
      ],
      "execution_count": null,
      "outputs": []
    },
    {
      "cell_type": "code",
      "metadata": {
        "colab": {
          "base_uri": "https://localhost:8080/"
        },
        "id": "RkmJtlHiV-ZF",
        "outputId": "0c558fd1-f673-4a65-d357-e73ce0306e4c"
      },
      "source": [
        "from sklearn.model_selection import train_test_split\n",
        "X_train, X_test, y_train, y_test = train_test_split(data4, target, random_state=42)\n",
        "\n",
        "print(target)"
      ],
      "execution_count": null,
      "outputs": [
        {
          "output_type": "stream",
          "text": [
            "0         Not Delayed\n",
            "1         Not Delayed\n",
            "2         Not Delayed\n",
            "3             Delayed\n",
            "4         Not Delayed\n",
            "             ...     \n",
            "585733    Not Delayed\n",
            "585734    Not Delayed\n",
            "585735    Not Delayed\n",
            "585736    Not Delayed\n",
            "585737    Not Delayed\n",
            "Name: DELAYED, Length: 575788, dtype: object\n"
          ],
          "name": "stdout"
        }
      ]
    },
    {
      "cell_type": "code",
      "metadata": {
        "colab": {
          "base_uri": "https://localhost:8080/"
        },
        "id": "K30fGCjQUlZw",
        "outputId": "ee59b0b3-522f-4294-a084-81d04a917dc5"
      },
      "source": [
        "# Support vector machine linear classifier\n",
        "from sklearn.svm import SVC \n",
        "model = SVC(kernel='linear')\n",
        "model.fit(X_train[:1000], y_train[:1000])\n"
      ],
      "execution_count": null,
      "outputs": [
        {
          "output_type": "execute_result",
          "data": {
            "text/plain": [
              "SVC(C=1.0, break_ties=False, cache_size=200, class_weight=None, coef0=0.0,\n",
              "    decision_function_shape='ovr', degree=3, gamma='scale', kernel='linear',\n",
              "    max_iter=-1, probability=False, random_state=None, shrinking=True,\n",
              "    tol=0.001, verbose=False)"
            ]
          },
          "metadata": {
            "tags": []
          },
          "execution_count": 12
        }
      ]
    },
    {
      "cell_type": "code",
      "metadata": {
        "colab": {
          "base_uri": "https://localhost:8080/"
        },
        "id": "AcQ2nm0pUlb8",
        "outputId": "cca6b371-3c61-4c7c-86e6-716b584f3e62"
      },
      "source": [
        "print('Test Acc: %.3f' % model.score(X_test, y_test))"
      ],
      "execution_count": null,
      "outputs": [
        {
          "output_type": "stream",
          "text": [
            "Test Acc: 0.826\n"
          ],
          "name": "stdout"
        }
      ]
    },
    {
      "cell_type": "code",
      "metadata": {
        "colab": {
          "base_uri": "https://localhost:8080/"
        },
        "id": "gFmEgi6dvyvE",
        "outputId": "f5c9dbe7-5192-4153-aadd-cdc43f690eed"
      },
      "source": [
        "# Calculate classification report\n",
        "from sklearn.metrics import classification_report\n",
        "predictions = model.predict(X_test)\n",
        "# print(classification_report(y_test, predictions,\n",
        "#                             target_names=target_names))\n",
        "\n",
        "\n",
        "print(X_test)\n",
        "print(predictions)"
      ],
      "execution_count": null,
      "outputs": [
        {
          "output_type": "stream",
          "text": [
            "        CRS_DEP_TIME  DISTANCE  dest_longitude  dest_latitude  MONTH\n",
            "283882           600     925.0         -95.341         29.984      1\n",
            "240291           855     552.0         -92.224         34.729      7\n",
            "172069           925    1726.0        -117.868         33.676      6\n",
            "510916          2117     837.0         -90.258         29.993      8\n",
            "307982          1240     299.0         -93.663         41.534     10\n",
            "...              ...       ...             ...            ...    ...\n",
            "365655          1220     802.0         -97.038         32.897      3\n",
            "277554          1555     606.0         -84.428         33.637     11\n",
            "144564          2031     585.0         -95.888         36.198      6\n",
            "147894          1955    1250.0        -111.978         40.788      8\n",
            "517548          1600     157.0         -85.195         40.978     10\n",
            "\n",
            "[143947 rows x 5 columns]\n",
            "['Not Delayed' 'Not Delayed' 'Not Delayed' ... 'Not Delayed' 'Not Delayed'\n",
            " 'Not Delayed']\n"
          ],
          "name": "stdout"
        }
      ]
    },
    {
      "cell_type": "code",
      "metadata": {
        "colab": {
          "base_uri": "https://localhost:8080/"
        },
        "id": "QvVnOaqSwaRW",
        "outputId": "87ae8711-124c-4853-9467-408bf6145f5d"
      },
      "source": [
        "print(X_test)"
      ],
      "execution_count": null,
      "outputs": [
        {
          "output_type": "stream",
          "text": [
            "        CRS_DEP_TIME  DISTANCE  dest_longitude  dest_latitude  MONTH\n",
            "283882           600     925.0         -95.341         29.984      1\n",
            "240291           855     552.0         -92.224         34.729      7\n",
            "172069           925    1726.0        -117.868         33.676      6\n",
            "510916          2117     837.0         -90.258         29.993      8\n",
            "307982          1240     299.0         -93.663         41.534     10\n",
            "...              ...       ...             ...            ...    ...\n",
            "365655          1220     802.0         -97.038         32.897      3\n",
            "277554          1555     606.0         -84.428         33.637     11\n",
            "144564          2031     585.0         -95.888         36.198      6\n",
            "147894          1955    1250.0        -111.978         40.788      8\n",
            "517548          1600     157.0         -85.195         40.978     10\n",
            "\n",
            "[143947 rows x 5 columns]\n"
          ],
          "name": "stdout"
        }
      ]
    },
    {
      "cell_type": "code",
      "metadata": {
        "colab": {
          "base_uri": "https://localhost:8080/"
        },
        "id": "ZvslID8C04XA",
        "outputId": "7be98872-1bb9-42ba-db44-6ad36bbe00f2"
      },
      "source": [
        "test1 = [[600, 925,95.341,29.984,1]]\n",
        "\n",
        "predictionex = model.predict(test1)\n",
        "\n",
        "print(predictionex)"
      ],
      "execution_count": null,
      "outputs": [
        {
          "output_type": "stream",
          "text": [
            "['Not Delayed']\n"
          ],
          "name": "stdout"
        }
      ]
    },
    {
      "cell_type": "code",
      "metadata": {
        "id": "A1zX5XvL604Y"
      },
      "source": [
        "x_test_df = pd.DataFrame(X_test)\n",
        "predictions_df = pd.DataFrame(predictions)"
      ],
      "execution_count": null,
      "outputs": []
    },
    {
      "cell_type": "code",
      "metadata": {
        "colab": {
          "base_uri": "https://localhost:8080/",
          "height": 16
        },
        "id": "N7TYXTmIC4gA",
        "outputId": "a7a0fb45-73e4-4efa-e0be-70f41878da11"
      },
      "source": [
        "x_test_df.to_csv(\"x_test_file.csv\")\n",
        "\n",
        "from google.colab import files\n",
        "files.download('x_test_file.csv')\n",
        "files.download('output_data.csv')"
      ],
      "execution_count": null,
      "outputs": [
        {
          "output_type": "display_data",
          "data": {
            "application/javascript": [
              "\n",
              "    async function download(id, filename, size) {\n",
              "      if (!google.colab.kernel.accessAllowed) {\n",
              "        return;\n",
              "      }\n",
              "      const div = document.createElement('div');\n",
              "      const label = document.createElement('label');\n",
              "      label.textContent = `Downloading \"${filename}\": `;\n",
              "      div.appendChild(label);\n",
              "      const progress = document.createElement('progress');\n",
              "      progress.max = size;\n",
              "      div.appendChild(progress);\n",
              "      document.body.appendChild(div);\n",
              "\n",
              "      const buffers = [];\n",
              "      let downloaded = 0;\n",
              "\n",
              "      const channel = await google.colab.kernel.comms.open(id);\n",
              "      // Send a message to notify the kernel that we're ready.\n",
              "      channel.send({})\n",
              "\n",
              "      for await (const message of channel.messages) {\n",
              "        // Send a message to notify the kernel that we're ready.\n",
              "        channel.send({})\n",
              "        if (message.buffers) {\n",
              "          for (const buffer of message.buffers) {\n",
              "            buffers.push(buffer);\n",
              "            downloaded += buffer.byteLength;\n",
              "            progress.value = downloaded;\n",
              "          }\n",
              "        }\n",
              "      }\n",
              "      const blob = new Blob(buffers, {type: 'application/binary'});\n",
              "      const a = document.createElement('a');\n",
              "      a.href = window.URL.createObjectURL(blob);\n",
              "      a.download = filename;\n",
              "      div.appendChild(a);\n",
              "      a.click();\n",
              "      div.remove();\n",
              "    }\n",
              "  "
            ],
            "text/plain": [
              "<IPython.core.display.Javascript object>"
            ]
          },
          "metadata": {
            "tags": []
          }
        },
        {
          "output_type": "display_data",
          "data": {
            "application/javascript": [
              "download(\"download_7e7467a1-7f92-4cf3-936c-c9bff2f50742\", \"x_test_file.csv\", 5055045)"
            ],
            "text/plain": [
              "<IPython.core.display.Javascript object>"
            ]
          },
          "metadata": {
            "tags": []
          }
        },
        {
          "output_type": "display_data",
          "data": {
            "application/javascript": [
              "\n",
              "    async function download(id, filename, size) {\n",
              "      if (!google.colab.kernel.accessAllowed) {\n",
              "        return;\n",
              "      }\n",
              "      const div = document.createElement('div');\n",
              "      const label = document.createElement('label');\n",
              "      label.textContent = `Downloading \"${filename}\": `;\n",
              "      div.appendChild(label);\n",
              "      const progress = document.createElement('progress');\n",
              "      progress.max = size;\n",
              "      div.appendChild(progress);\n",
              "      document.body.appendChild(div);\n",
              "\n",
              "      const buffers = [];\n",
              "      let downloaded = 0;\n",
              "\n",
              "      const channel = await google.colab.kernel.comms.open(id);\n",
              "      // Send a message to notify the kernel that we're ready.\n",
              "      channel.send({})\n",
              "\n",
              "      for await (const message of channel.messages) {\n",
              "        // Send a message to notify the kernel that we're ready.\n",
              "        channel.send({})\n",
              "        if (message.buffers) {\n",
              "          for (const buffer of message.buffers) {\n",
              "            buffers.push(buffer);\n",
              "            downloaded += buffer.byteLength;\n",
              "            progress.value = downloaded;\n",
              "          }\n",
              "        }\n",
              "      }\n",
              "      const blob = new Blob(buffers, {type: 'application/binary'});\n",
              "      const a = document.createElement('a');\n",
              "      a.href = window.URL.createObjectURL(blob);\n",
              "      a.download = filename;\n",
              "      div.appendChild(a);\n",
              "      a.click();\n",
              "      div.remove();\n",
              "    }\n",
              "  "
            ],
            "text/plain": [
              "<IPython.core.display.Javascript object>"
            ]
          },
          "metadata": {
            "tags": []
          }
        },
        {
          "output_type": "display_data",
          "data": {
            "application/javascript": [
              "download(\"download_6971e9bd-1923-4909-81bb-72d11598322f\", \"output_data.csv\", 89410935)"
            ],
            "text/plain": [
              "<IPython.core.display.Javascript object>"
            ]
          },
          "metadata": {
            "tags": []
          }
        }
      ]
    },
    {
      "cell_type": "code",
      "metadata": {
        "id": "9iwGuvOmWzyv"
      },
      "source": [
        "import pickle\n",
        "\n",
        "# Saving model to current directory\n",
        "# Pickle serializes objects so they can be saved to a file, and loaded in a program again later on.\n",
        "pickle.dump(model, open('model.pkl','wb'))"
      ],
      "execution_count": null,
      "outputs": []
    }
  ]
}