{
  "nbformat": 4,
  "nbformat_minor": 0,
  "metadata": {
    "colab": {
      "name": "flight_prediction_ml.ipynb",
      "provenance": [],
      "collapsed_sections": []
    },
    "kernelspec": {
      "name": "python3",
      "display_name": "Python 3.8.5 64-bit ('base': conda)"
    },
    "language_info": {
      "name": "python",
      "version": "3.8.5"
    },
    "interpreter": {
      "hash": "7eeb5d4e2010c011f7c89c755a420ad09e201e676fb46bca55a9706f8dfe6eea"
    }
  },
  "cells": [
    {
      "cell_type": "code",
      "metadata": {
        "id": "DnqDBgXuN1rj"
      },
      "source": [
        "import matplotlib.pyplot as plt\n",
        "from sklearn.neighbors import KNeighborsClassifier\n",
        "import pandas as pd\n",
        "import numpy as np\n",
        "import os"
      ],
      "execution_count": 1,
      "outputs": []
    },
    {
      "cell_type": "code",
      "metadata": {
        "id": "enicl-X6SoAx"
      },
      "source": [
        "# Code to read csv file into Colaboratory:\n",
        "!pip install -U -q PyDrive\n",
        "from pydrive.auth import GoogleAuth\n",
        "from pydrive.drive import GoogleDrive\n",
        "from google.colab import auth\n",
        "from oauth2client.client import GoogleCredentials\n",
        "# Authenticate and create the PyDrive client.\n",
        "auth.authenticate_user()\n",
        "gauth = GoogleAuth()\n",
        "gauth.credentials = GoogleCredentials.get_application_default()\n",
        "drive = GoogleDrive(gauth)"
      ],
      "execution_count": 2,
      "outputs": []
    },
    {
      "cell_type": "code",
      "metadata": {
        "id": "MZHDXCcFTG8w"
      },
      "source": [
        "# URL to data file saved in google drive (output_data.csv)\n",
        "link = 'https://drive.google.com/open?id=1r3FcsKcEPJHeHE2YoR82I82zvbibiK0l'"
      ],
      "execution_count": 3,
      "outputs": []
    },
    {
      "cell_type": "code",
      "metadata": {
        "colab": {
          "base_uri": "https://localhost:8080/"
        },
        "id": "J35IoKfbUEyq",
        "outputId": "71f60ed1-fa78-409f-bd07-f0f2d535855e"
      },
      "source": [
        "# Extract ID from google drive link\n",
        "fluff, id = link.split('=')\n",
        "print (id) # Verify that you have everything after '='"
      ],
      "execution_count": 4,
      "outputs": [
        {
          "output_type": "stream",
          "text": [
            "1r3FcsKcEPJHeHE2YoR82I82zvbibiK0l\n"
          ],
          "name": "stdout"
        }
      ]
    },
    {
      "cell_type": "code",
      "metadata": {
        "colab": {
          "base_uri": "https://localhost:8080/",
          "height": 308
        },
        "id": "8LOHZjT2UIca",
        "outputId": "5dae358c-7ad5-46cd-de89-8d45041a5b1a"
      },
      "source": [
        "# Load data\n",
        "\n",
        "df3 = pd.read_csv('output_data.csv')\n",
        "# Dataset is now stored in a Pandas Dataframe\n",
        "\n",
        "df3.head()"
      ],
      "execution_count": 4,
      "outputs": [
        {
          "output_type": "execute_result",
          "data": {
            "text/plain": [
              "      FL_DATE OP_CARRIER  OP_CARRIER_FL_NUM ORIGIN DEST  CRS_DEP_TIME  \\\n",
              "0  2017-01-01         AA                 25    ORD  LAS          1705   \n",
              "1  2017-01-01         AA                300    ORD  LAS          1235   \n",
              "2  2017-01-01         NK                245    ORD  LAS          1518   \n",
              "3  2017-01-01         NK                357    ORD  LAS           927   \n",
              "4  2017-01-01         UA                599    ORD  LAS          1940   \n",
              "\n",
              "   DEP_TIME  DEP_DELAY  CANCELLED CANCELLATION_CODE  ...  WEATHER_DELAY  \\\n",
              "0    1707.0        2.0        0.0               NaN  ...            NaN   \n",
              "1    1232.0       -3.0        0.0               NaN  ...            NaN   \n",
              "2    1507.0      -11.0        0.0               NaN  ...            NaN   \n",
              "3    1204.0      157.0        0.0               NaN  ...            0.0   \n",
              "4    1945.0        5.0        0.0               NaN  ...            NaN   \n",
              "\n",
              "   NAS_DELAY  SECURITY_DELAY  LATE_AIRCRAFT_DELAY  country_code  \\\n",
              "0        NaN             NaN                  NaN            US   \n",
              "1        NaN             NaN                  NaN            US   \n",
              "2        NaN             NaN                  NaN            US   \n",
              "3      130.0             0.0                  0.0            US   \n",
              "4        NaN             NaN                  NaN            US   \n",
              "\n",
              "     airport_name  dest_longitude  dest_latitude  org_longitude  org_latitude  \n",
              "0  Mc Carran Intl      -115.15225      36.080056     -87.904842     41.978603  \n",
              "1  Mc Carran Intl      -115.15225      36.080056     -87.904842     41.978603  \n",
              "2  Mc Carran Intl      -115.15225      36.080056     -87.904842     41.978603  \n",
              "3  Mc Carran Intl      -115.15225      36.080056     -87.904842     41.978603  \n",
              "4  Mc Carran Intl      -115.15225      36.080056     -87.904842     41.978603  \n",
              "\n",
              "[5 rows x 26 columns]"
            ],
            "text/html": "<div>\n<style scoped>\n    .dataframe tbody tr th:only-of-type {\n        vertical-align: middle;\n    }\n\n    .dataframe tbody tr th {\n        vertical-align: top;\n    }\n\n    .dataframe thead th {\n        text-align: right;\n    }\n</style>\n<table border=\"1\" class=\"dataframe\">\n  <thead>\n    <tr style=\"text-align: right;\">\n      <th></th>\n      <th>FL_DATE</th>\n      <th>OP_CARRIER</th>\n      <th>OP_CARRIER_FL_NUM</th>\n      <th>ORIGIN</th>\n      <th>DEST</th>\n      <th>CRS_DEP_TIME</th>\n      <th>DEP_TIME</th>\n      <th>DEP_DELAY</th>\n      <th>CANCELLED</th>\n      <th>CANCELLATION_CODE</th>\n      <th>...</th>\n      <th>WEATHER_DELAY</th>\n      <th>NAS_DELAY</th>\n      <th>SECURITY_DELAY</th>\n      <th>LATE_AIRCRAFT_DELAY</th>\n      <th>country_code</th>\n      <th>airport_name</th>\n      <th>dest_longitude</th>\n      <th>dest_latitude</th>\n      <th>org_longitude</th>\n      <th>org_latitude</th>\n    </tr>\n  </thead>\n  <tbody>\n    <tr>\n      <th>0</th>\n      <td>2017-01-01</td>\n      <td>AA</td>\n      <td>25</td>\n      <td>ORD</td>\n      <td>LAS</td>\n      <td>1705</td>\n      <td>1707.0</td>\n      <td>2.0</td>\n      <td>0.0</td>\n      <td>NaN</td>\n      <td>...</td>\n      <td>NaN</td>\n      <td>NaN</td>\n      <td>NaN</td>\n      <td>NaN</td>\n      <td>US</td>\n      <td>Mc Carran Intl</td>\n      <td>-115.15225</td>\n      <td>36.080056</td>\n      <td>-87.904842</td>\n      <td>41.978603</td>\n    </tr>\n    <tr>\n      <th>1</th>\n      <td>2017-01-01</td>\n      <td>AA</td>\n      <td>300</td>\n      <td>ORD</td>\n      <td>LAS</td>\n      <td>1235</td>\n      <td>1232.0</td>\n      <td>-3.0</td>\n      <td>0.0</td>\n      <td>NaN</td>\n      <td>...</td>\n      <td>NaN</td>\n      <td>NaN</td>\n      <td>NaN</td>\n      <td>NaN</td>\n      <td>US</td>\n      <td>Mc Carran Intl</td>\n      <td>-115.15225</td>\n      <td>36.080056</td>\n      <td>-87.904842</td>\n      <td>41.978603</td>\n    </tr>\n    <tr>\n      <th>2</th>\n      <td>2017-01-01</td>\n      <td>NK</td>\n      <td>245</td>\n      <td>ORD</td>\n      <td>LAS</td>\n      <td>1518</td>\n      <td>1507.0</td>\n      <td>-11.0</td>\n      <td>0.0</td>\n      <td>NaN</td>\n      <td>...</td>\n      <td>NaN</td>\n      <td>NaN</td>\n      <td>NaN</td>\n      <td>NaN</td>\n      <td>US</td>\n      <td>Mc Carran Intl</td>\n      <td>-115.15225</td>\n      <td>36.080056</td>\n      <td>-87.904842</td>\n      <td>41.978603</td>\n    </tr>\n    <tr>\n      <th>3</th>\n      <td>2017-01-01</td>\n      <td>NK</td>\n      <td>357</td>\n      <td>ORD</td>\n      <td>LAS</td>\n      <td>927</td>\n      <td>1204.0</td>\n      <td>157.0</td>\n      <td>0.0</td>\n      <td>NaN</td>\n      <td>...</td>\n      <td>0.0</td>\n      <td>130.0</td>\n      <td>0.0</td>\n      <td>0.0</td>\n      <td>US</td>\n      <td>Mc Carran Intl</td>\n      <td>-115.15225</td>\n      <td>36.080056</td>\n      <td>-87.904842</td>\n      <td>41.978603</td>\n    </tr>\n    <tr>\n      <th>4</th>\n      <td>2017-01-01</td>\n      <td>UA</td>\n      <td>599</td>\n      <td>ORD</td>\n      <td>LAS</td>\n      <td>1940</td>\n      <td>1945.0</td>\n      <td>5.0</td>\n      <td>0.0</td>\n      <td>NaN</td>\n      <td>...</td>\n      <td>NaN</td>\n      <td>NaN</td>\n      <td>NaN</td>\n      <td>NaN</td>\n      <td>US</td>\n      <td>Mc Carran Intl</td>\n      <td>-115.15225</td>\n      <td>36.080056</td>\n      <td>-87.904842</td>\n      <td>41.978603</td>\n    </tr>\n  </tbody>\n</table>\n<p>5 rows × 26 columns</p>\n</div>"
          },
          "metadata": {},
          "execution_count": 4
        }
      ]
    },
    {
      "cell_type": "code",
      "metadata": {
        "colab": {
          "base_uri": "https://localhost:8080/",
          "height": 308
        },
        "id": "xoMMMJufY_il",
        "outputId": "b5d5a7bd-20d0-492e-cc4a-75af4bde6061"
      },
      "source": [
        "# Categorize each flight in binary terms\n",
        "df3.loc[df3['DEP_DELAY'] > 0, 'DELAYED'] = 'Delayed'\n",
        "df3.loc[df3['DEP_DELAY'] < 0, 'DELAYED'] = 'Not Delayed'\n",
        "\n",
        "df3.head()"
      ],
      "execution_count": 5,
      "outputs": [
        {
          "output_type": "execute_result",
          "data": {
            "text/plain": [
              "      FL_DATE OP_CARRIER  OP_CARRIER_FL_NUM ORIGIN DEST  CRS_DEP_TIME  \\\n",
              "0  2017-01-01         AA                 25    ORD  LAS          1705   \n",
              "1  2017-01-01         AA                300    ORD  LAS          1235   \n",
              "2  2017-01-01         NK                245    ORD  LAS          1518   \n",
              "3  2017-01-01         NK                357    ORD  LAS           927   \n",
              "4  2017-01-01         UA                599    ORD  LAS          1940   \n",
              "\n",
              "   DEP_TIME  DEP_DELAY  CANCELLED CANCELLATION_CODE  ...  NAS_DELAY  \\\n",
              "0    1707.0        2.0        0.0               NaN  ...        NaN   \n",
              "1    1232.0       -3.0        0.0               NaN  ...        NaN   \n",
              "2    1507.0      -11.0        0.0               NaN  ...        NaN   \n",
              "3    1204.0      157.0        0.0               NaN  ...      130.0   \n",
              "4    1945.0        5.0        0.0               NaN  ...        NaN   \n",
              "\n",
              "   SECURITY_DELAY  LATE_AIRCRAFT_DELAY  country_code    airport_name  \\\n",
              "0             NaN                  NaN            US  Mc Carran Intl   \n",
              "1             NaN                  NaN            US  Mc Carran Intl   \n",
              "2             NaN                  NaN            US  Mc Carran Intl   \n",
              "3             0.0                  0.0            US  Mc Carran Intl   \n",
              "4             NaN                  NaN            US  Mc Carran Intl   \n",
              "\n",
              "   dest_longitude  dest_latitude  org_longitude  org_latitude      DELAYED  \n",
              "0      -115.15225      36.080056     -87.904842     41.978603      Delayed  \n",
              "1      -115.15225      36.080056     -87.904842     41.978603  Not Delayed  \n",
              "2      -115.15225      36.080056     -87.904842     41.978603  Not Delayed  \n",
              "3      -115.15225      36.080056     -87.904842     41.978603      Delayed  \n",
              "4      -115.15225      36.080056     -87.904842     41.978603      Delayed  \n",
              "\n",
              "[5 rows x 27 columns]"
            ],
            "text/html": "<div>\n<style scoped>\n    .dataframe tbody tr th:only-of-type {\n        vertical-align: middle;\n    }\n\n    .dataframe tbody tr th {\n        vertical-align: top;\n    }\n\n    .dataframe thead th {\n        text-align: right;\n    }\n</style>\n<table border=\"1\" class=\"dataframe\">\n  <thead>\n    <tr style=\"text-align: right;\">\n      <th></th>\n      <th>FL_DATE</th>\n      <th>OP_CARRIER</th>\n      <th>OP_CARRIER_FL_NUM</th>\n      <th>ORIGIN</th>\n      <th>DEST</th>\n      <th>CRS_DEP_TIME</th>\n      <th>DEP_TIME</th>\n      <th>DEP_DELAY</th>\n      <th>CANCELLED</th>\n      <th>CANCELLATION_CODE</th>\n      <th>...</th>\n      <th>NAS_DELAY</th>\n      <th>SECURITY_DELAY</th>\n      <th>LATE_AIRCRAFT_DELAY</th>\n      <th>country_code</th>\n      <th>airport_name</th>\n      <th>dest_longitude</th>\n      <th>dest_latitude</th>\n      <th>org_longitude</th>\n      <th>org_latitude</th>\n      <th>DELAYED</th>\n    </tr>\n  </thead>\n  <tbody>\n    <tr>\n      <th>0</th>\n      <td>2017-01-01</td>\n      <td>AA</td>\n      <td>25</td>\n      <td>ORD</td>\n      <td>LAS</td>\n      <td>1705</td>\n      <td>1707.0</td>\n      <td>2.0</td>\n      <td>0.0</td>\n      <td>NaN</td>\n      <td>...</td>\n      <td>NaN</td>\n      <td>NaN</td>\n      <td>NaN</td>\n      <td>US</td>\n      <td>Mc Carran Intl</td>\n      <td>-115.15225</td>\n      <td>36.080056</td>\n      <td>-87.904842</td>\n      <td>41.978603</td>\n      <td>Delayed</td>\n    </tr>\n    <tr>\n      <th>1</th>\n      <td>2017-01-01</td>\n      <td>AA</td>\n      <td>300</td>\n      <td>ORD</td>\n      <td>LAS</td>\n      <td>1235</td>\n      <td>1232.0</td>\n      <td>-3.0</td>\n      <td>0.0</td>\n      <td>NaN</td>\n      <td>...</td>\n      <td>NaN</td>\n      <td>NaN</td>\n      <td>NaN</td>\n      <td>US</td>\n      <td>Mc Carran Intl</td>\n      <td>-115.15225</td>\n      <td>36.080056</td>\n      <td>-87.904842</td>\n      <td>41.978603</td>\n      <td>Not Delayed</td>\n    </tr>\n    <tr>\n      <th>2</th>\n      <td>2017-01-01</td>\n      <td>NK</td>\n      <td>245</td>\n      <td>ORD</td>\n      <td>LAS</td>\n      <td>1518</td>\n      <td>1507.0</td>\n      <td>-11.0</td>\n      <td>0.0</td>\n      <td>NaN</td>\n      <td>...</td>\n      <td>NaN</td>\n      <td>NaN</td>\n      <td>NaN</td>\n      <td>US</td>\n      <td>Mc Carran Intl</td>\n      <td>-115.15225</td>\n      <td>36.080056</td>\n      <td>-87.904842</td>\n      <td>41.978603</td>\n      <td>Not Delayed</td>\n    </tr>\n    <tr>\n      <th>3</th>\n      <td>2017-01-01</td>\n      <td>NK</td>\n      <td>357</td>\n      <td>ORD</td>\n      <td>LAS</td>\n      <td>927</td>\n      <td>1204.0</td>\n      <td>157.0</td>\n      <td>0.0</td>\n      <td>NaN</td>\n      <td>...</td>\n      <td>130.0</td>\n      <td>0.0</td>\n      <td>0.0</td>\n      <td>US</td>\n      <td>Mc Carran Intl</td>\n      <td>-115.15225</td>\n      <td>36.080056</td>\n      <td>-87.904842</td>\n      <td>41.978603</td>\n      <td>Delayed</td>\n    </tr>\n    <tr>\n      <th>4</th>\n      <td>2017-01-01</td>\n      <td>UA</td>\n      <td>599</td>\n      <td>ORD</td>\n      <td>LAS</td>\n      <td>1940</td>\n      <td>1945.0</td>\n      <td>5.0</td>\n      <td>0.0</td>\n      <td>NaN</td>\n      <td>...</td>\n      <td>NaN</td>\n      <td>NaN</td>\n      <td>NaN</td>\n      <td>US</td>\n      <td>Mc Carran Intl</td>\n      <td>-115.15225</td>\n      <td>36.080056</td>\n      <td>-87.904842</td>\n      <td>41.978603</td>\n      <td>Delayed</td>\n    </tr>\n  </tbody>\n</table>\n<p>5 rows × 27 columns</p>\n</div>"
          },
          "metadata": {},
          "execution_count": 5
        }
      ]
    },
    {
      "cell_type": "code",
      "metadata": {
        "colab": {
          "base_uri": "https://localhost:8080/",
          "height": 417
        },
        "id": "OXamoUywUlXI",
        "outputId": "3782100c-4593-43af-ec35-60fcc43bfee0"
      },
      "source": [
        "# Drop unecessary series data\n",
        "data = df3.drop([\"CANCELLED\",\"OP_CARRIER\",\"ORIGIN\",\"DEST\",\"OP_CARRIER_FL_NUM\",\"DEP_TIME\",\"DEP_DELAY\",\"CANCELLATION_CODE\",\"DIVERTED\",\"CRS_ELAPSED_TIME\",\"ACTUAL_ELAPSED_TIME\",\"AIR_TIME\",\"CARRIER_DELAY\",\"WEATHER_DELAY\", \"NAS_DELAY\", \"SECURITY_DELAY\", \"LATE_AIRCRAFT_DELAY\", \"country_code\", \"airport_name\", \"org_longitude\", \"org_latitude\"], axis=1)\n",
        "\n",
        "# Drop rows with blank values\n",
        "data2 = data.dropna()\n",
        "\n",
        "data2"
      ],
      "execution_count": 6,
      "outputs": [
        {
          "output_type": "execute_result",
          "data": {
            "text/plain": [
              "           FL_DATE  CRS_DEP_TIME  DISTANCE  dest_longitude  dest_latitude  \\\n",
              "0       2017-01-01          1705    1514.0     -115.152250      36.080056   \n",
              "1       2017-01-01          1235    1514.0     -115.152250      36.080056   \n",
              "2       2017-01-01          1518    1514.0     -115.152250      36.080056   \n",
              "3       2017-01-01           927    1514.0     -115.152250      36.080056   \n",
              "4       2017-01-01          1940    1514.0     -115.152250      36.080056   \n",
              "...            ...           ...       ...             ...            ...   \n",
              "585733  2018-12-15          1351    1219.0      -97.654389      26.228500   \n",
              "585734  2018-12-19          1351    1219.0      -97.654389      26.228500   \n",
              "585735  2018-12-22          1351    1219.0      -97.654389      26.228500   \n",
              "585736  2018-12-26          1351    1219.0      -97.654389      26.228500   \n",
              "585737  2018-12-29          1351    1219.0      -97.654389      26.228500   \n",
              "\n",
              "            DELAYED  \n",
              "0           Delayed  \n",
              "1       Not Delayed  \n",
              "2       Not Delayed  \n",
              "3           Delayed  \n",
              "4           Delayed  \n",
              "...             ...  \n",
              "585733  Not Delayed  \n",
              "585734  Not Delayed  \n",
              "585735  Not Delayed  \n",
              "585736  Not Delayed  \n",
              "585737  Not Delayed  \n",
              "\n",
              "[550740 rows x 6 columns]"
            ],
            "text/html": "<div>\n<style scoped>\n    .dataframe tbody tr th:only-of-type {\n        vertical-align: middle;\n    }\n\n    .dataframe tbody tr th {\n        vertical-align: top;\n    }\n\n    .dataframe thead th {\n        text-align: right;\n    }\n</style>\n<table border=\"1\" class=\"dataframe\">\n  <thead>\n    <tr style=\"text-align: right;\">\n      <th></th>\n      <th>FL_DATE</th>\n      <th>CRS_DEP_TIME</th>\n      <th>DISTANCE</th>\n      <th>dest_longitude</th>\n      <th>dest_latitude</th>\n      <th>DELAYED</th>\n    </tr>\n  </thead>\n  <tbody>\n    <tr>\n      <th>0</th>\n      <td>2017-01-01</td>\n      <td>1705</td>\n      <td>1514.0</td>\n      <td>-115.152250</td>\n      <td>36.080056</td>\n      <td>Delayed</td>\n    </tr>\n    <tr>\n      <th>1</th>\n      <td>2017-01-01</td>\n      <td>1235</td>\n      <td>1514.0</td>\n      <td>-115.152250</td>\n      <td>36.080056</td>\n      <td>Not Delayed</td>\n    </tr>\n    <tr>\n      <th>2</th>\n      <td>2017-01-01</td>\n      <td>1518</td>\n      <td>1514.0</td>\n      <td>-115.152250</td>\n      <td>36.080056</td>\n      <td>Not Delayed</td>\n    </tr>\n    <tr>\n      <th>3</th>\n      <td>2017-01-01</td>\n      <td>927</td>\n      <td>1514.0</td>\n      <td>-115.152250</td>\n      <td>36.080056</td>\n      <td>Delayed</td>\n    </tr>\n    <tr>\n      <th>4</th>\n      <td>2017-01-01</td>\n      <td>1940</td>\n      <td>1514.0</td>\n      <td>-115.152250</td>\n      <td>36.080056</td>\n      <td>Delayed</td>\n    </tr>\n    <tr>\n      <th>...</th>\n      <td>...</td>\n      <td>...</td>\n      <td>...</td>\n      <td>...</td>\n      <td>...</td>\n      <td>...</td>\n    </tr>\n    <tr>\n      <th>585733</th>\n      <td>2018-12-15</td>\n      <td>1351</td>\n      <td>1219.0</td>\n      <td>-97.654389</td>\n      <td>26.228500</td>\n      <td>Not Delayed</td>\n    </tr>\n    <tr>\n      <th>585734</th>\n      <td>2018-12-19</td>\n      <td>1351</td>\n      <td>1219.0</td>\n      <td>-97.654389</td>\n      <td>26.228500</td>\n      <td>Not Delayed</td>\n    </tr>\n    <tr>\n      <th>585735</th>\n      <td>2018-12-22</td>\n      <td>1351</td>\n      <td>1219.0</td>\n      <td>-97.654389</td>\n      <td>26.228500</td>\n      <td>Not Delayed</td>\n    </tr>\n    <tr>\n      <th>585736</th>\n      <td>2018-12-26</td>\n      <td>1351</td>\n      <td>1219.0</td>\n      <td>-97.654389</td>\n      <td>26.228500</td>\n      <td>Not Delayed</td>\n    </tr>\n    <tr>\n      <th>585737</th>\n      <td>2018-12-29</td>\n      <td>1351</td>\n      <td>1219.0</td>\n      <td>-97.654389</td>\n      <td>26.228500</td>\n      <td>Not Delayed</td>\n    </tr>\n  </tbody>\n</table>\n<p>550740 rows × 6 columns</p>\n</div>"
          },
          "metadata": {},
          "execution_count": 6
        }
      ]
    },
    {
      "cell_type": "code",
      "metadata": {
        "colab": {
          "base_uri": "https://localhost:8080/",
          "height": 408
        },
        "id": "ji9vCsj9shBR",
        "outputId": "e0de05cf-57a4-400b-9f77-364d3e33947e"
      },
      "source": [
        "# Extract month from flight date and save as new series\n",
        "data2['FL_DATE']= pd.to_datetime(data2['FL_DATE'])\n",
        "data2['MONTH'] = pd.DatetimeIndex(data2['FL_DATE']).month\n",
        "\n",
        "# Drop original date column\n",
        "data3 = data2.drop([\"FL_DATE\"],axis=1)\n",
        "\n",
        "# Clean latitude and longitude values\n",
        "decimals = 3   \n",
        "data3['dest_longitude'] = data3['dest_longitude'].apply(lambda x: round(x, decimals))\n",
        "data3['dest_latitude'] = data3['dest_latitude'].apply(lambda x: round(x, decimals))\n",
        "\n",
        "feature_names = data3.columns\n",
        "\n",
        "data3.head()"
      ],
      "execution_count": 7,
      "outputs": [
        {
          "output_type": "stream",
          "name": "stderr",
          "text": [
            "<ipython-input-7-419c8f2f158f>:2: SettingWithCopyWarning: \nA value is trying to be set on a copy of a slice from a DataFrame.\nTry using .loc[row_indexer,col_indexer] = value instead\n\nSee the caveats in the documentation: https://pandas.pydata.org/pandas-docs/stable/user_guide/indexing.html#returning-a-view-versus-a-copy\n  data2['FL_DATE']= pd.to_datetime(data2['FL_DATE'])\n<ipython-input-7-419c8f2f158f>:3: SettingWithCopyWarning: \nA value is trying to be set on a copy of a slice from a DataFrame.\nTry using .loc[row_indexer,col_indexer] = value instead\n\nSee the caveats in the documentation: https://pandas.pydata.org/pandas-docs/stable/user_guide/indexing.html#returning-a-view-versus-a-copy\n  data2['MONTH'] = pd.DatetimeIndex(data2['FL_DATE']).month\n"
          ]
        },
        {
          "output_type": "execute_result",
          "data": {
            "text/plain": [
              "   CRS_DEP_TIME  DISTANCE  dest_longitude  dest_latitude      DELAYED  MONTH\n",
              "0          1705    1514.0        -115.152          36.08      Delayed      1\n",
              "1          1235    1514.0        -115.152          36.08  Not Delayed      1\n",
              "2          1518    1514.0        -115.152          36.08  Not Delayed      1\n",
              "3           927    1514.0        -115.152          36.08      Delayed      1\n",
              "4          1940    1514.0        -115.152          36.08      Delayed      1"
            ],
            "text/html": "<div>\n<style scoped>\n    .dataframe tbody tr th:only-of-type {\n        vertical-align: middle;\n    }\n\n    .dataframe tbody tr th {\n        vertical-align: top;\n    }\n\n    .dataframe thead th {\n        text-align: right;\n    }\n</style>\n<table border=\"1\" class=\"dataframe\">\n  <thead>\n    <tr style=\"text-align: right;\">\n      <th></th>\n      <th>CRS_DEP_TIME</th>\n      <th>DISTANCE</th>\n      <th>dest_longitude</th>\n      <th>dest_latitude</th>\n      <th>DELAYED</th>\n      <th>MONTH</th>\n    </tr>\n  </thead>\n  <tbody>\n    <tr>\n      <th>0</th>\n      <td>1705</td>\n      <td>1514.0</td>\n      <td>-115.152</td>\n      <td>36.08</td>\n      <td>Delayed</td>\n      <td>1</td>\n    </tr>\n    <tr>\n      <th>1</th>\n      <td>1235</td>\n      <td>1514.0</td>\n      <td>-115.152</td>\n      <td>36.08</td>\n      <td>Not Delayed</td>\n      <td>1</td>\n    </tr>\n    <tr>\n      <th>2</th>\n      <td>1518</td>\n      <td>1514.0</td>\n      <td>-115.152</td>\n      <td>36.08</td>\n      <td>Not Delayed</td>\n      <td>1</td>\n    </tr>\n    <tr>\n      <th>3</th>\n      <td>927</td>\n      <td>1514.0</td>\n      <td>-115.152</td>\n      <td>36.08</td>\n      <td>Delayed</td>\n      <td>1</td>\n    </tr>\n    <tr>\n      <th>4</th>\n      <td>1940</td>\n      <td>1514.0</td>\n      <td>-115.152</td>\n      <td>36.08</td>\n      <td>Delayed</td>\n      <td>1</td>\n    </tr>\n  </tbody>\n</table>\n</div>"
          },
          "metadata": {},
          "execution_count": 7
        }
      ]
    },
    {
      "cell_type": "code",
      "metadata": {
        "id": "JlTQ13zdthha"
      },
      "source": [
        "# Define classification target\n",
        "target = data3[\"DELAYED\"]\n",
        "target_names = [\"Not Delayed\", \"Delayed\"]"
      ],
      "execution_count": 8,
      "outputs": []
    },
    {
      "cell_type": "code",
      "metadata": {
        "id": "LgHQQBX5u2Vp"
      },
      "source": [
        "# Drop non-integer column before passing through model\n",
        "data4 = data3.drop(['DELAYED'], axis =1)"
      ],
      "execution_count": 9,
      "outputs": []
    },
    {
      "cell_type": "code",
      "metadata": {
        "colab": {
          "base_uri": "https://localhost:8080/"
        },
        "id": "RkmJtlHiV-ZF",
        "outputId": "07d1e25c-4bad-4fdd-c564-f17d287ebf05"
      },
      "source": [
        "from sklearn.model_selection import train_test_split\n",
        "X_train, X_test, y_train, y_test = train_test_split(data4, target, random_state=42)\n",
        "\n",
        "print(target)"
      ],
      "execution_count": 10,
      "outputs": [
        {
          "output_type": "stream",
          "name": "stdout",
          "text": [
            "0             Delayed\n1         Not Delayed\n2         Not Delayed\n3             Delayed\n4             Delayed\n             ...     \n585733    Not Delayed\n585734    Not Delayed\n585735    Not Delayed\n585736    Not Delayed\n585737    Not Delayed\nName: DELAYED, Length: 550740, dtype: object\n"
          ]
        }
      ]
    },
    {
      "cell_type": "code",
      "metadata": {
        "colab": {
          "base_uri": "https://localhost:8080/"
        },
        "id": "K30fGCjQUlZw",
        "outputId": "f3c2913c-ab29-445b-d403-e1604007ee73"
      },
      "source": [
        "# Support vector machine linear classifier\n",
        "from sklearn.svm import SVC \n",
        "model = SVC(kernel='linear')\n",
        "model.fit(X_train[:1000], y_train[:1000])\n"
      ],
      "execution_count": 11,
      "outputs": [
        {
          "output_type": "execute_result",
          "data": {
            "text/plain": [
              "SVC(kernel='linear')"
            ]
          },
          "metadata": {},
          "execution_count": 11
        }
      ]
    },
    {
      "cell_type": "code",
      "metadata": {
        "colab": {
          "base_uri": "https://localhost:8080/"
        },
        "id": "AcQ2nm0pUlb8",
        "outputId": "6ed004d5-00e8-4976-ee62-dbd476517272"
      },
      "source": [
        "print('Test Acc: %.3f' % model.score(X_test, y_test))"
      ],
      "execution_count": 12,
      "outputs": [
        {
          "output_type": "stream",
          "name": "stdout",
          "text": [
            "Test Acc: 0.641\n"
          ]
        }
      ]
    },
    {
      "cell_type": "code",
      "metadata": {
        "id": "gFmEgi6dvyvE"
      },
      "source": [
        "# Calculate classification report\n",
        "from sklearn.metrics import classification_report\n",
        "predictions = model.predict(X_test)\n",
        "# print(classification_report(y_test, predictions,\n",
        "#                             target_names=target_names))\n",
        "\n",
        "\n",
        "df = pd.DataFrame(predictions)\n"
      ],
      "execution_count": 13,
      "outputs": []
    },
    {
      "cell_type": "code",
      "metadata": {
        "colab": {
          "base_uri": "https://localhost:8080/"
        },
        "id": "QvVnOaqSwaRW",
        "outputId": "9d373346-7013-4b23-cb2a-bc495ea86913"
      },
      "source": [
        "print(X_test)"
      ],
      "execution_count": 14,
      "outputs": [
        {
          "output_type": "stream",
          "name": "stdout",
          "text": [
            "        CRS_DEP_TIME  DISTANCE  dest_longitude  dest_latitude  MONTH\n498868           730     137.0         -85.523         42.881     10\n325664          1825     594.0         -76.763         40.193      6\n488535           840     122.0         -85.552         42.235      9\n262041          1915     273.0         -87.532         38.037     11\n114961           633    1197.0         -80.291         25.793     12\n...              ...       ...             ...            ...    ...\n345872           825     286.0         -85.736         38.174     10\n82095           2055     733.0         -73.873         40.777      3\n248754          1525     588.0         -97.433         37.650      8\n363962          1125     343.0         -81.442         40.916     10\n72569           1340     612.0         -77.038         38.852      1\n\n[137685 rows x 5 columns]\n"
          ]
        }
      ]
    },
    {
      "cell_type": "code",
      "metadata": {
        "colab": {
          "base_uri": "https://localhost:8080/"
        },
        "id": "ZvslID8C04XA",
        "outputId": "f7ab6589-1836-44c6-ef16-f45f1d8e6c5f"
      },
      "source": [
        "test1 = [[600, 925,95.341,29.984,1]]\n",
        "\n",
        "predictionex = model.predict(test1)\n",
        "\n",
        "print(predictionex)"
      ],
      "execution_count": 15,
      "outputs": [
        {
          "output_type": "stream",
          "name": "stdout",
          "text": [
            "['Not Delayed']\n"
          ]
        }
      ]
    },
    {
      "cell_type": "code",
      "metadata": {
        "id": "A1zX5XvL604Y"
      },
      "source": [
        "x_test_df = pd.DataFrame(X_test)\n",
        "predictions_df = pd.DataFrame(predictions)"
      ],
      "execution_count": 16,
      "outputs": []
    },
    {
      "cell_type": "code",
      "metadata": {
        "colab": {
          "base_uri": "https://localhost:8080/",
          "height": 17
        },
        "id": "N7TYXTmIC4gA",
        "outputId": "a262cf4a-74c9-49e8-ac28-2d93cac6a252"
      },
      "source": [
        "x_test_df.to_csv(\"x_test_file.csv\")\n",
        "df.to_csv(\"predictions.csv\")\n",
        "\n",
        "# from google.colab import files\n",
        "# files.download('x_test_file.csv')\n",
        "# files.download('output_data.csv')\n",
        "# files.download(\"predictions.csv\")"
      ],
      "execution_count": 17,
      "outputs": []
    },
    {
      "cell_type": "code",
      "metadata": {
        "id": "9iwGuvOmWzyv"
      },
      "source": [
        "import pickle\n",
        "\n",
        "# Saving model to current directory\n",
        "# Pickle serializes objects so they can be saved to a file, and loaded in a program again later on.\n",
        "pickle.dump(model, open('model.pkl','wb'))"
      ],
      "execution_count": 18,
      "outputs": []
    },
    {
      "cell_type": "code",
      "execution_count": null,
      "metadata": {},
      "outputs": [],
      "source": []
    }
  ]
}