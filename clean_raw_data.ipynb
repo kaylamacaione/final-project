{
 "metadata": {
  "language_info": {
   "codemirror_mode": {
    "name": "ipython",
    "version": 3
   },
   "file_extension": ".py",
   "mimetype": "text/x-python",
   "name": "python",
   "nbconvert_exporter": "python",
   "pygments_lexer": "ipython3",
   "version": "3.8.5"
  },
  "orig_nbformat": 2,
  "kernelspec": {
   "name": "python385jvsc74a57bd07eeb5d4e2010c011f7c89c755a420ad09e201e676fb46bca55a9706f8dfe6eea",
   "display_name": "Python 3.8.5 64-bit ('base': conda)"
  }
 },
 "nbformat": 4,
 "nbformat_minor": 2,
 "cells": [
  {
   "cell_type": "code",
   "execution_count": 2,
   "metadata": {},
   "outputs": [],
   "source": [
    "import pandas as pd\n"
   ]
  },
  {
   "cell_type": "code",
   "execution_count": 3,
   "metadata": {},
   "outputs": [],
   "source": [
    "# load data\n",
    "\n",
    "# df_09 = pd.read_csv('Resources/2009.csv')\n",
    "# df_10 = pd.read_csv('Resources/2010.csv')\n",
    "# df_11 = pd.read_csv('Resources/2011.csv')\n",
    "# df_12 = pd.read_csv('Resources/2012.csv')\n",
    "# df_13 = pd.read_csv('Resources/2013.csv')\n",
    "# df_14 = pd.read_csv('Resources/2014.csv')\n",
    "# df_15 = pd.read_csv('Resources/2015.csv')\n",
    "# df_16 = pd.read_csv('Resources/2016.csv')\n",
    "\n",
    "df_17 = pd.read_csv('Resources/2017.csv').drop(columns=[\"TAXI_OUT\",\"WHEELS_OFF\",\"WHEELS_ON\",\"TAXI_IN\",\"CRS_ARR_TIME\", \"ARR_TIME\", \"ARR_DELAY\",\"Unnamed: 27\"])\n",
    "df_18 = pd.read_csv('Resources/2018.csv').drop(columns=[\"TAXI_OUT\",\"WHEELS_OFF\",\"WHEELS_ON\",\"TAXI_IN\",\"CRS_ARR_TIME\", \"ARR_TIME\", \"ARR_DELAY\",\"Unnamed: 27\"])\n",
    "\n"
   ]
  },
  {
   "cell_type": "code",
   "execution_count": 4,
   "metadata": {},
   "outputs": [
    {
     "output_type": "execute_result",
     "data": {
      "text/plain": [
       "             FL_DATE OP_CARRIER  OP_CARRIER_FL_NUM ORIGIN DEST  CRS_DEP_TIME  \\\n",
       "18        2017-01-01         AA                 25    ORD  LAS          1705   \n",
       "31        2017-01-01         AA                 41    ORD  SFO          1335   \n",
       "38        2017-01-01         AA                 53    ORD  TPA          1508   \n",
       "40        2017-01-01         AA                 55    ORD  MCO          1850   \n",
       "65        2017-01-01         AA                 87    ORD  PDX          1650   \n",
       "...              ...        ...                ...    ...  ...           ...   \n",
       "12887919  2018-12-31         AA               1668    ORD  CLT          1035   \n",
       "12887942  2018-12-31         AA               1691    ORD  DCA          2037   \n",
       "12887986  2018-12-31         AA               1734    ORD  CLT          1211   \n",
       "12888007  2018-12-31         AA               1765    ORD  PHX           500   \n",
       "12888027  2018-12-31         AA               1786    ORD  PHL          2035   \n",
       "\n",
       "          DEP_TIME  DEP_DELAY  CANCELLED CANCELLATION_CODE  DIVERTED  \\\n",
       "18          1707.0        2.0        0.0               NaN       0.0   \n",
       "31          1404.0       29.0        0.0               NaN       0.0   \n",
       "38          1517.0        9.0        0.0               NaN       0.0   \n",
       "40          1857.0        7.0        0.0               NaN       0.0   \n",
       "65          1644.0       -6.0        0.0               NaN       0.0   \n",
       "...            ...        ...        ...               ...       ...   \n",
       "12887919    1033.0       -2.0        0.0               NaN       0.0   \n",
       "12887942    2100.0       23.0        0.0               NaN       0.0   \n",
       "12887986    1221.0       10.0        0.0               NaN       0.0   \n",
       "12888007     455.0       -5.0        0.0               NaN       0.0   \n",
       "12888027    2045.0       10.0        0.0               NaN       0.0   \n",
       "\n",
       "          CRS_ELAPSED_TIME  ACTUAL_ELAPSED_TIME  AIR_TIME  DISTANCE  \\\n",
       "18                   242.0                248.0     218.0    1514.0   \n",
       "31                   286.0                276.0     260.0    1846.0   \n",
       "38                   156.0                156.0     137.0    1012.0   \n",
       "40                   163.0                153.0     132.0    1005.0   \n",
       "65                   272.0                292.0     239.0    1739.0   \n",
       "...                    ...                  ...       ...       ...   \n",
       "12887919             116.0                145.0      97.0     599.0   \n",
       "12887942             113.0                101.0      80.0     612.0   \n",
       "12887986             118.0                117.0      89.0     599.0   \n",
       "12888007             235.0                231.0     213.0    1440.0   \n",
       "12888027             116.0                114.0      85.0     678.0   \n",
       "\n",
       "          CARRIER_DELAY  WEATHER_DELAY  NAS_DELAY  SECURITY_DELAY  \\\n",
       "18                  NaN            NaN        NaN             NaN   \n",
       "31                 19.0            0.0        0.0             0.0   \n",
       "38                  NaN            NaN        NaN             NaN   \n",
       "40                  NaN            NaN        NaN             NaN   \n",
       "65                  NaN            NaN        NaN             NaN   \n",
       "...                 ...            ...        ...             ...   \n",
       "12887919            0.0            0.0       27.0             0.0   \n",
       "12887942            NaN            NaN        NaN             NaN   \n",
       "12887986            NaN            NaN        NaN             NaN   \n",
       "12888007            NaN            NaN        NaN             NaN   \n",
       "12888027            NaN            NaN        NaN             NaN   \n",
       "\n",
       "          LATE_AIRCRAFT_DELAY  \n",
       "18                        NaN  \n",
       "31                        0.0  \n",
       "38                        NaN  \n",
       "40                        NaN  \n",
       "65                        NaN  \n",
       "...                       ...  \n",
       "12887919                  0.0  \n",
       "12887942                  NaN  \n",
       "12887986                  NaN  \n",
       "12888007                  NaN  \n",
       "12888027                  NaN  \n",
       "\n",
       "[599413 rows x 20 columns]"
      ],
      "text/html": "<div>\n<style scoped>\n    .dataframe tbody tr th:only-of-type {\n        vertical-align: middle;\n    }\n\n    .dataframe tbody tr th {\n        vertical-align: top;\n    }\n\n    .dataframe thead th {\n        text-align: right;\n    }\n</style>\n<table border=\"1\" class=\"dataframe\">\n  <thead>\n    <tr style=\"text-align: right;\">\n      <th></th>\n      <th>FL_DATE</th>\n      <th>OP_CARRIER</th>\n      <th>OP_CARRIER_FL_NUM</th>\n      <th>ORIGIN</th>\n      <th>DEST</th>\n      <th>CRS_DEP_TIME</th>\n      <th>DEP_TIME</th>\n      <th>DEP_DELAY</th>\n      <th>CANCELLED</th>\n      <th>CANCELLATION_CODE</th>\n      <th>DIVERTED</th>\n      <th>CRS_ELAPSED_TIME</th>\n      <th>ACTUAL_ELAPSED_TIME</th>\n      <th>AIR_TIME</th>\n      <th>DISTANCE</th>\n      <th>CARRIER_DELAY</th>\n      <th>WEATHER_DELAY</th>\n      <th>NAS_DELAY</th>\n      <th>SECURITY_DELAY</th>\n      <th>LATE_AIRCRAFT_DELAY</th>\n    </tr>\n  </thead>\n  <tbody>\n    <tr>\n      <th>18</th>\n      <td>2017-01-01</td>\n      <td>AA</td>\n      <td>25</td>\n      <td>ORD</td>\n      <td>LAS</td>\n      <td>1705</td>\n      <td>1707.0</td>\n      <td>2.0</td>\n      <td>0.0</td>\n      <td>NaN</td>\n      <td>0.0</td>\n      <td>242.0</td>\n      <td>248.0</td>\n      <td>218.0</td>\n      <td>1514.0</td>\n      <td>NaN</td>\n      <td>NaN</td>\n      <td>NaN</td>\n      <td>NaN</td>\n      <td>NaN</td>\n    </tr>\n    <tr>\n      <th>31</th>\n      <td>2017-01-01</td>\n      <td>AA</td>\n      <td>41</td>\n      <td>ORD</td>\n      <td>SFO</td>\n      <td>1335</td>\n      <td>1404.0</td>\n      <td>29.0</td>\n      <td>0.0</td>\n      <td>NaN</td>\n      <td>0.0</td>\n      <td>286.0</td>\n      <td>276.0</td>\n      <td>260.0</td>\n      <td>1846.0</td>\n      <td>19.0</td>\n      <td>0.0</td>\n      <td>0.0</td>\n      <td>0.0</td>\n      <td>0.0</td>\n    </tr>\n    <tr>\n      <th>38</th>\n      <td>2017-01-01</td>\n      <td>AA</td>\n      <td>53</td>\n      <td>ORD</td>\n      <td>TPA</td>\n      <td>1508</td>\n      <td>1517.0</td>\n      <td>9.0</td>\n      <td>0.0</td>\n      <td>NaN</td>\n      <td>0.0</td>\n      <td>156.0</td>\n      <td>156.0</td>\n      <td>137.0</td>\n      <td>1012.0</td>\n      <td>NaN</td>\n      <td>NaN</td>\n      <td>NaN</td>\n      <td>NaN</td>\n      <td>NaN</td>\n    </tr>\n    <tr>\n      <th>40</th>\n      <td>2017-01-01</td>\n      <td>AA</td>\n      <td>55</td>\n      <td>ORD</td>\n      <td>MCO</td>\n      <td>1850</td>\n      <td>1857.0</td>\n      <td>7.0</td>\n      <td>0.0</td>\n      <td>NaN</td>\n      <td>0.0</td>\n      <td>163.0</td>\n      <td>153.0</td>\n      <td>132.0</td>\n      <td>1005.0</td>\n      <td>NaN</td>\n      <td>NaN</td>\n      <td>NaN</td>\n      <td>NaN</td>\n      <td>NaN</td>\n    </tr>\n    <tr>\n      <th>65</th>\n      <td>2017-01-01</td>\n      <td>AA</td>\n      <td>87</td>\n      <td>ORD</td>\n      <td>PDX</td>\n      <td>1650</td>\n      <td>1644.0</td>\n      <td>-6.0</td>\n      <td>0.0</td>\n      <td>NaN</td>\n      <td>0.0</td>\n      <td>272.0</td>\n      <td>292.0</td>\n      <td>239.0</td>\n      <td>1739.0</td>\n      <td>NaN</td>\n      <td>NaN</td>\n      <td>NaN</td>\n      <td>NaN</td>\n      <td>NaN</td>\n    </tr>\n    <tr>\n      <th>...</th>\n      <td>...</td>\n      <td>...</td>\n      <td>...</td>\n      <td>...</td>\n      <td>...</td>\n      <td>...</td>\n      <td>...</td>\n      <td>...</td>\n      <td>...</td>\n      <td>...</td>\n      <td>...</td>\n      <td>...</td>\n      <td>...</td>\n      <td>...</td>\n      <td>...</td>\n      <td>...</td>\n      <td>...</td>\n      <td>...</td>\n      <td>...</td>\n      <td>...</td>\n    </tr>\n    <tr>\n      <th>12887919</th>\n      <td>2018-12-31</td>\n      <td>AA</td>\n      <td>1668</td>\n      <td>ORD</td>\n      <td>CLT</td>\n      <td>1035</td>\n      <td>1033.0</td>\n      <td>-2.0</td>\n      <td>0.0</td>\n      <td>NaN</td>\n      <td>0.0</td>\n      <td>116.0</td>\n      <td>145.0</td>\n      <td>97.0</td>\n      <td>599.0</td>\n      <td>0.0</td>\n      <td>0.0</td>\n      <td>27.0</td>\n      <td>0.0</td>\n      <td>0.0</td>\n    </tr>\n    <tr>\n      <th>12887942</th>\n      <td>2018-12-31</td>\n      <td>AA</td>\n      <td>1691</td>\n      <td>ORD</td>\n      <td>DCA</td>\n      <td>2037</td>\n      <td>2100.0</td>\n      <td>23.0</td>\n      <td>0.0</td>\n      <td>NaN</td>\n      <td>0.0</td>\n      <td>113.0</td>\n      <td>101.0</td>\n      <td>80.0</td>\n      <td>612.0</td>\n      <td>NaN</td>\n      <td>NaN</td>\n      <td>NaN</td>\n      <td>NaN</td>\n      <td>NaN</td>\n    </tr>\n    <tr>\n      <th>12887986</th>\n      <td>2018-12-31</td>\n      <td>AA</td>\n      <td>1734</td>\n      <td>ORD</td>\n      <td>CLT</td>\n      <td>1211</td>\n      <td>1221.0</td>\n      <td>10.0</td>\n      <td>0.0</td>\n      <td>NaN</td>\n      <td>0.0</td>\n      <td>118.0</td>\n      <td>117.0</td>\n      <td>89.0</td>\n      <td>599.0</td>\n      <td>NaN</td>\n      <td>NaN</td>\n      <td>NaN</td>\n      <td>NaN</td>\n      <td>NaN</td>\n    </tr>\n    <tr>\n      <th>12888007</th>\n      <td>2018-12-31</td>\n      <td>AA</td>\n      <td>1765</td>\n      <td>ORD</td>\n      <td>PHX</td>\n      <td>500</td>\n      <td>455.0</td>\n      <td>-5.0</td>\n      <td>0.0</td>\n      <td>NaN</td>\n      <td>0.0</td>\n      <td>235.0</td>\n      <td>231.0</td>\n      <td>213.0</td>\n      <td>1440.0</td>\n      <td>NaN</td>\n      <td>NaN</td>\n      <td>NaN</td>\n      <td>NaN</td>\n      <td>NaN</td>\n    </tr>\n    <tr>\n      <th>12888027</th>\n      <td>2018-12-31</td>\n      <td>AA</td>\n      <td>1786</td>\n      <td>ORD</td>\n      <td>PHL</td>\n      <td>2035</td>\n      <td>2045.0</td>\n      <td>10.0</td>\n      <td>0.0</td>\n      <td>NaN</td>\n      <td>0.0</td>\n      <td>116.0</td>\n      <td>114.0</td>\n      <td>85.0</td>\n      <td>678.0</td>\n      <td>NaN</td>\n      <td>NaN</td>\n      <td>NaN</td>\n      <td>NaN</td>\n      <td>NaN</td>\n    </tr>\n  </tbody>\n</table>\n<p>599413 rows × 20 columns</p>\n</div>"
     },
     "metadata": {},
     "execution_count": 4
    }
   ],
   "source": [
    "# merge years and filter for ORD as origin\n",
    "\n",
    "df_all = df_17.append([df_18], ignore_index= True)\n",
    "df_all.head()\n",
    "\n",
    "df_allord = df_all.loc[df_all[\"ORIGIN\"]== \"ORD\"]\n",
    "\n",
    "df_allord\n",
    "\n"
   ]
  },
  {
   "cell_type": "code",
   "execution_count": 5,
   "metadata": {},
   "outputs": [
    {
     "output_type": "execute_result",
     "data": {
      "text/plain": [
       "    country_code                          airport_name DEST  dest_longitude  \\\n",
       "0             US                    Barter Island Lrrs  BTI     -143.581867   \n",
       "1             US                         Wainwright As  K03     -159.860350   \n",
       "2             US                        Anaktuvuk Pass  AKP     -151.743342   \n",
       "3             US                        Arctic Village  ARC     -145.579417   \n",
       "4             US         Atqasuk Edward Burnell Sr Mem  ATK     -157.435736   \n",
       "..           ...                                   ...  ...             ...   \n",
       "672           US                       Tweed New Haven  HVN      -72.886806   \n",
       "673           US                              Ladd Aaf  FBK     -147.614444   \n",
       "674           US                     Mc Minnville Muni  MMV     -123.135944   \n",
       "675           US                            Robins Afb  WRB      -83.591850   \n",
       "676           US  Barnstable Muni Boardman Polando Fld  HYA      -70.280356   \n",
       "\n",
       "     dest_latitude  \n",
       "0        70.133989  \n",
       "1        70.613378  \n",
       "2        68.133597  \n",
       "3        68.114669  \n",
       "4        70.467275  \n",
       "..             ...  \n",
       "672      41.263750  \n",
       "673      64.837500  \n",
       "674      45.194444  \n",
       "675      32.640144  \n",
       "676      41.669336  \n",
       "\n",
       "[677 rows x 5 columns]"
      ],
      "text/html": "<div>\n<style scoped>\n    .dataframe tbody tr th:only-of-type {\n        vertical-align: middle;\n    }\n\n    .dataframe tbody tr th {\n        vertical-align: top;\n    }\n\n    .dataframe thead th {\n        text-align: right;\n    }\n</style>\n<table border=\"1\" class=\"dataframe\">\n  <thead>\n    <tr style=\"text-align: right;\">\n      <th></th>\n      <th>country_code</th>\n      <th>airport_name</th>\n      <th>DEST</th>\n      <th>dest_longitude</th>\n      <th>dest_latitude</th>\n    </tr>\n  </thead>\n  <tbody>\n    <tr>\n      <th>0</th>\n      <td>US</td>\n      <td>Barter Island Lrrs</td>\n      <td>BTI</td>\n      <td>-143.581867</td>\n      <td>70.133989</td>\n    </tr>\n    <tr>\n      <th>1</th>\n      <td>US</td>\n      <td>Wainwright As</td>\n      <td>K03</td>\n      <td>-159.860350</td>\n      <td>70.613378</td>\n    </tr>\n    <tr>\n      <th>2</th>\n      <td>US</td>\n      <td>Anaktuvuk Pass</td>\n      <td>AKP</td>\n      <td>-151.743342</td>\n      <td>68.133597</td>\n    </tr>\n    <tr>\n      <th>3</th>\n      <td>US</td>\n      <td>Arctic Village</td>\n      <td>ARC</td>\n      <td>-145.579417</td>\n      <td>68.114669</td>\n    </tr>\n    <tr>\n      <th>4</th>\n      <td>US</td>\n      <td>Atqasuk Edward Burnell Sr Mem</td>\n      <td>ATK</td>\n      <td>-157.435736</td>\n      <td>70.467275</td>\n    </tr>\n    <tr>\n      <th>...</th>\n      <td>...</td>\n      <td>...</td>\n      <td>...</td>\n      <td>...</td>\n      <td>...</td>\n    </tr>\n    <tr>\n      <th>672</th>\n      <td>US</td>\n      <td>Tweed New Haven</td>\n      <td>HVN</td>\n      <td>-72.886806</td>\n      <td>41.263750</td>\n    </tr>\n    <tr>\n      <th>673</th>\n      <td>US</td>\n      <td>Ladd Aaf</td>\n      <td>FBK</td>\n      <td>-147.614444</td>\n      <td>64.837500</td>\n    </tr>\n    <tr>\n      <th>674</th>\n      <td>US</td>\n      <td>Mc Minnville Muni</td>\n      <td>MMV</td>\n      <td>-123.135944</td>\n      <td>45.194444</td>\n    </tr>\n    <tr>\n      <th>675</th>\n      <td>US</td>\n      <td>Robins Afb</td>\n      <td>WRB</td>\n      <td>-83.591850</td>\n      <td>32.640144</td>\n    </tr>\n    <tr>\n      <th>676</th>\n      <td>US</td>\n      <td>Barnstable Muni Boardman Polando Fld</td>\n      <td>HYA</td>\n      <td>-70.280356</td>\n      <td>41.669336</td>\n    </tr>\n  </tbody>\n</table>\n<p>677 rows × 5 columns</p>\n</div>"
     },
     "metadata": {},
     "execution_count": 5
    }
   ],
   "source": [
    "# import airport codes\n",
    "\n",
    "df_airports = pd.read_csv('Resources/airport_geo.csv').drop(columns=[\"airport_code4\"])\n",
    "\n",
    "# filter for US, drop local airports, reset index, and remove extra columns\n",
    "df_usairports = df_airports.loc[df_airports[\"country_code\"]== \"US\"].dropna(subset=['airport_code3']).reset_index().drop(columns = [\"index\"]).rename(columns={\"airport_code3\": \"DEST\", \"latitude\": \"dest_latitude\", \"longitude\": \"dest_longitude\"})\n",
    "\n",
    "df_usairports\n"
   ]
  },
  {
   "cell_type": "code",
   "execution_count": 6,
   "metadata": {},
   "outputs": [
    {
     "output_type": "execute_result",
     "data": {
      "text/plain": [
       "           FL_DATE OP_CARRIER  OP_CARRIER_FL_NUM ORIGIN DEST  CRS_DEP_TIME  \\\n",
       "0       2017-01-01         AA                 25    ORD  LAS          1705   \n",
       "1       2017-01-01         AA                300    ORD  LAS          1235   \n",
       "2       2017-01-01         NK                245    ORD  LAS          1518   \n",
       "3       2017-01-01         NK                357    ORD  LAS           927   \n",
       "4       2017-01-01         UA                599    ORD  LAS          1940   \n",
       "...            ...        ...                ...    ...  ...           ...   \n",
       "585733  2018-12-15         F9               1311    ORD  HRL          1351   \n",
       "585734  2018-12-19         F9               1311    ORD  HRL          1351   \n",
       "585735  2018-12-22         F9               1311    ORD  HRL          1351   \n",
       "585736  2018-12-26         F9               1311    ORD  HRL          1351   \n",
       "585737  2018-12-29         F9               1311    ORD  HRL          1351   \n",
       "\n",
       "        DEP_TIME  DEP_DELAY  CANCELLED CANCELLATION_CODE  ...  DISTANCE  \\\n",
       "0         1707.0        2.0        0.0               NaN  ...    1514.0   \n",
       "1         1232.0       -3.0        0.0               NaN  ...    1514.0   \n",
       "2         1507.0      -11.0        0.0               NaN  ...    1514.0   \n",
       "3         1204.0      157.0        0.0               NaN  ...    1514.0   \n",
       "4         1945.0        5.0        0.0               NaN  ...    1514.0   \n",
       "...          ...        ...        ...               ...  ...       ...   \n",
       "585733    1342.0       -9.0        0.0               NaN  ...    1219.0   \n",
       "585734    1345.0       -6.0        0.0               NaN  ...    1219.0   \n",
       "585735    1338.0      -13.0        0.0               NaN  ...    1219.0   \n",
       "585736    1341.0      -10.0        0.0               NaN  ...    1219.0   \n",
       "585737    1343.0       -8.0        0.0               NaN  ...    1219.0   \n",
       "\n",
       "        CARRIER_DELAY  WEATHER_DELAY  NAS_DELAY  SECURITY_DELAY  \\\n",
       "0                 NaN            NaN        NaN             NaN   \n",
       "1                 NaN            NaN        NaN             NaN   \n",
       "2                 NaN            NaN        NaN             NaN   \n",
       "3                 0.0            0.0      130.0             0.0   \n",
       "4                 NaN            NaN        NaN             NaN   \n",
       "...               ...            ...        ...             ...   \n",
       "585733            NaN            NaN        NaN             NaN   \n",
       "585734            NaN            NaN        NaN             NaN   \n",
       "585735            NaN            NaN        NaN             NaN   \n",
       "585736            NaN            NaN        NaN             NaN   \n",
       "585737            0.0            0.0       18.0             0.0   \n",
       "\n",
       "        LATE_AIRCRAFT_DELAY  country_code    airport_name  dest_longitude  \\\n",
       "0                       NaN            US  Mc Carran Intl     -115.152250   \n",
       "1                       NaN            US  Mc Carran Intl     -115.152250   \n",
       "2                       NaN            US  Mc Carran Intl     -115.152250   \n",
       "3                       0.0            US  Mc Carran Intl     -115.152250   \n",
       "4                       NaN            US  Mc Carran Intl     -115.152250   \n",
       "...                     ...           ...             ...             ...   \n",
       "585733                  NaN            US     Valley Intl      -97.654389   \n",
       "585734                  NaN            US     Valley Intl      -97.654389   \n",
       "585735                  NaN            US     Valley Intl      -97.654389   \n",
       "585736                  NaN            US     Valley Intl      -97.654389   \n",
       "585737                  0.0            US     Valley Intl      -97.654389   \n",
       "\n",
       "        dest_latitude  \n",
       "0           36.080056  \n",
       "1           36.080056  \n",
       "2           36.080056  \n",
       "3           36.080056  \n",
       "4           36.080056  \n",
       "...               ...  \n",
       "585733      26.228500  \n",
       "585734      26.228500  \n",
       "585735      26.228500  \n",
       "585736      26.228500  \n",
       "585737      26.228500  \n",
       "\n",
       "[585738 rows x 24 columns]"
      ],
      "text/html": "<div>\n<style scoped>\n    .dataframe tbody tr th:only-of-type {\n        vertical-align: middle;\n    }\n\n    .dataframe tbody tr th {\n        vertical-align: top;\n    }\n\n    .dataframe thead th {\n        text-align: right;\n    }\n</style>\n<table border=\"1\" class=\"dataframe\">\n  <thead>\n    <tr style=\"text-align: right;\">\n      <th></th>\n      <th>FL_DATE</th>\n      <th>OP_CARRIER</th>\n      <th>OP_CARRIER_FL_NUM</th>\n      <th>ORIGIN</th>\n      <th>DEST</th>\n      <th>CRS_DEP_TIME</th>\n      <th>DEP_TIME</th>\n      <th>DEP_DELAY</th>\n      <th>CANCELLED</th>\n      <th>CANCELLATION_CODE</th>\n      <th>...</th>\n      <th>DISTANCE</th>\n      <th>CARRIER_DELAY</th>\n      <th>WEATHER_DELAY</th>\n      <th>NAS_DELAY</th>\n      <th>SECURITY_DELAY</th>\n      <th>LATE_AIRCRAFT_DELAY</th>\n      <th>country_code</th>\n      <th>airport_name</th>\n      <th>dest_longitude</th>\n      <th>dest_latitude</th>\n    </tr>\n  </thead>\n  <tbody>\n    <tr>\n      <th>0</th>\n      <td>2017-01-01</td>\n      <td>AA</td>\n      <td>25</td>\n      <td>ORD</td>\n      <td>LAS</td>\n      <td>1705</td>\n      <td>1707.0</td>\n      <td>2.0</td>\n      <td>0.0</td>\n      <td>NaN</td>\n      <td>...</td>\n      <td>1514.0</td>\n      <td>NaN</td>\n      <td>NaN</td>\n      <td>NaN</td>\n      <td>NaN</td>\n      <td>NaN</td>\n      <td>US</td>\n      <td>Mc Carran Intl</td>\n      <td>-115.152250</td>\n      <td>36.080056</td>\n    </tr>\n    <tr>\n      <th>1</th>\n      <td>2017-01-01</td>\n      <td>AA</td>\n      <td>300</td>\n      <td>ORD</td>\n      <td>LAS</td>\n      <td>1235</td>\n      <td>1232.0</td>\n      <td>-3.0</td>\n      <td>0.0</td>\n      <td>NaN</td>\n      <td>...</td>\n      <td>1514.0</td>\n      <td>NaN</td>\n      <td>NaN</td>\n      <td>NaN</td>\n      <td>NaN</td>\n      <td>NaN</td>\n      <td>US</td>\n      <td>Mc Carran Intl</td>\n      <td>-115.152250</td>\n      <td>36.080056</td>\n    </tr>\n    <tr>\n      <th>2</th>\n      <td>2017-01-01</td>\n      <td>NK</td>\n      <td>245</td>\n      <td>ORD</td>\n      <td>LAS</td>\n      <td>1518</td>\n      <td>1507.0</td>\n      <td>-11.0</td>\n      <td>0.0</td>\n      <td>NaN</td>\n      <td>...</td>\n      <td>1514.0</td>\n      <td>NaN</td>\n      <td>NaN</td>\n      <td>NaN</td>\n      <td>NaN</td>\n      <td>NaN</td>\n      <td>US</td>\n      <td>Mc Carran Intl</td>\n      <td>-115.152250</td>\n      <td>36.080056</td>\n    </tr>\n    <tr>\n      <th>3</th>\n      <td>2017-01-01</td>\n      <td>NK</td>\n      <td>357</td>\n      <td>ORD</td>\n      <td>LAS</td>\n      <td>927</td>\n      <td>1204.0</td>\n      <td>157.0</td>\n      <td>0.0</td>\n      <td>NaN</td>\n      <td>...</td>\n      <td>1514.0</td>\n      <td>0.0</td>\n      <td>0.0</td>\n      <td>130.0</td>\n      <td>0.0</td>\n      <td>0.0</td>\n      <td>US</td>\n      <td>Mc Carran Intl</td>\n      <td>-115.152250</td>\n      <td>36.080056</td>\n    </tr>\n    <tr>\n      <th>4</th>\n      <td>2017-01-01</td>\n      <td>UA</td>\n      <td>599</td>\n      <td>ORD</td>\n      <td>LAS</td>\n      <td>1940</td>\n      <td>1945.0</td>\n      <td>5.0</td>\n      <td>0.0</td>\n      <td>NaN</td>\n      <td>...</td>\n      <td>1514.0</td>\n      <td>NaN</td>\n      <td>NaN</td>\n      <td>NaN</td>\n      <td>NaN</td>\n      <td>NaN</td>\n      <td>US</td>\n      <td>Mc Carran Intl</td>\n      <td>-115.152250</td>\n      <td>36.080056</td>\n    </tr>\n    <tr>\n      <th>...</th>\n      <td>...</td>\n      <td>...</td>\n      <td>...</td>\n      <td>...</td>\n      <td>...</td>\n      <td>...</td>\n      <td>...</td>\n      <td>...</td>\n      <td>...</td>\n      <td>...</td>\n      <td>...</td>\n      <td>...</td>\n      <td>...</td>\n      <td>...</td>\n      <td>...</td>\n      <td>...</td>\n      <td>...</td>\n      <td>...</td>\n      <td>...</td>\n      <td>...</td>\n      <td>...</td>\n    </tr>\n    <tr>\n      <th>585733</th>\n      <td>2018-12-15</td>\n      <td>F9</td>\n      <td>1311</td>\n      <td>ORD</td>\n      <td>HRL</td>\n      <td>1351</td>\n      <td>1342.0</td>\n      <td>-9.0</td>\n      <td>0.0</td>\n      <td>NaN</td>\n      <td>...</td>\n      <td>1219.0</td>\n      <td>NaN</td>\n      <td>NaN</td>\n      <td>NaN</td>\n      <td>NaN</td>\n      <td>NaN</td>\n      <td>US</td>\n      <td>Valley Intl</td>\n      <td>-97.654389</td>\n      <td>26.228500</td>\n    </tr>\n    <tr>\n      <th>585734</th>\n      <td>2018-12-19</td>\n      <td>F9</td>\n      <td>1311</td>\n      <td>ORD</td>\n      <td>HRL</td>\n      <td>1351</td>\n      <td>1345.0</td>\n      <td>-6.0</td>\n      <td>0.0</td>\n      <td>NaN</td>\n      <td>...</td>\n      <td>1219.0</td>\n      <td>NaN</td>\n      <td>NaN</td>\n      <td>NaN</td>\n      <td>NaN</td>\n      <td>NaN</td>\n      <td>US</td>\n      <td>Valley Intl</td>\n      <td>-97.654389</td>\n      <td>26.228500</td>\n    </tr>\n    <tr>\n      <th>585735</th>\n      <td>2018-12-22</td>\n      <td>F9</td>\n      <td>1311</td>\n      <td>ORD</td>\n      <td>HRL</td>\n      <td>1351</td>\n      <td>1338.0</td>\n      <td>-13.0</td>\n      <td>0.0</td>\n      <td>NaN</td>\n      <td>...</td>\n      <td>1219.0</td>\n      <td>NaN</td>\n      <td>NaN</td>\n      <td>NaN</td>\n      <td>NaN</td>\n      <td>NaN</td>\n      <td>US</td>\n      <td>Valley Intl</td>\n      <td>-97.654389</td>\n      <td>26.228500</td>\n    </tr>\n    <tr>\n      <th>585736</th>\n      <td>2018-12-26</td>\n      <td>F9</td>\n      <td>1311</td>\n      <td>ORD</td>\n      <td>HRL</td>\n      <td>1351</td>\n      <td>1341.0</td>\n      <td>-10.0</td>\n      <td>0.0</td>\n      <td>NaN</td>\n      <td>...</td>\n      <td>1219.0</td>\n      <td>NaN</td>\n      <td>NaN</td>\n      <td>NaN</td>\n      <td>NaN</td>\n      <td>NaN</td>\n      <td>US</td>\n      <td>Valley Intl</td>\n      <td>-97.654389</td>\n      <td>26.228500</td>\n    </tr>\n    <tr>\n      <th>585737</th>\n      <td>2018-12-29</td>\n      <td>F9</td>\n      <td>1311</td>\n      <td>ORD</td>\n      <td>HRL</td>\n      <td>1351</td>\n      <td>1343.0</td>\n      <td>-8.0</td>\n      <td>0.0</td>\n      <td>NaN</td>\n      <td>...</td>\n      <td>1219.0</td>\n      <td>0.0</td>\n      <td>0.0</td>\n      <td>18.0</td>\n      <td>0.0</td>\n      <td>0.0</td>\n      <td>US</td>\n      <td>Valley Intl</td>\n      <td>-97.654389</td>\n      <td>26.228500</td>\n    </tr>\n  </tbody>\n</table>\n<p>585738 rows × 24 columns</p>\n</div>"
     },
     "metadata": {},
     "execution_count": 6
    }
   ],
   "source": [
    "# merge datasets\n",
    "\n",
    "df_ord_domflights = df_allord.merge(df_usairports, on = \"DEST\", how = 'inner')\n",
    "\n",
    "df_ord_domflights\n"
   ]
  },
  {
   "cell_type": "code",
   "execution_count": 7,
   "metadata": {},
   "outputs": [
    {
     "output_type": "execute_result",
     "data": {
      "text/plain": [
       "           FL_DATE OP_CARRIER  OP_CARRIER_FL_NUM ORIGIN DEST  CRS_DEP_TIME  \\\n",
       "0       2017-01-01         AA                 25    ORD  LAS          1705   \n",
       "1       2017-01-01         AA                300    ORD  LAS          1235   \n",
       "2       2017-01-01         NK                245    ORD  LAS          1518   \n",
       "3       2017-01-01         NK                357    ORD  LAS           927   \n",
       "4       2017-01-01         UA                599    ORD  LAS          1940   \n",
       "...            ...        ...                ...    ...  ...           ...   \n",
       "585733  2018-12-15         F9               1311    ORD  HRL          1351   \n",
       "585734  2018-12-19         F9               1311    ORD  HRL          1351   \n",
       "585735  2018-12-22         F9               1311    ORD  HRL          1351   \n",
       "585736  2018-12-26         F9               1311    ORD  HRL          1351   \n",
       "585737  2018-12-29         F9               1311    ORD  HRL          1351   \n",
       "\n",
       "        DEP_TIME  DEP_DELAY  CANCELLED CANCELLATION_CODE  ...  WEATHER_DELAY  \\\n",
       "0         1707.0        2.0        0.0               NaN  ...            NaN   \n",
       "1         1232.0       -3.0        0.0               NaN  ...            NaN   \n",
       "2         1507.0      -11.0        0.0               NaN  ...            NaN   \n",
       "3         1204.0      157.0        0.0               NaN  ...            0.0   \n",
       "4         1945.0        5.0        0.0               NaN  ...            NaN   \n",
       "...          ...        ...        ...               ...  ...            ...   \n",
       "585733    1342.0       -9.0        0.0               NaN  ...            NaN   \n",
       "585734    1345.0       -6.0        0.0               NaN  ...            NaN   \n",
       "585735    1338.0      -13.0        0.0               NaN  ...            NaN   \n",
       "585736    1341.0      -10.0        0.0               NaN  ...            NaN   \n",
       "585737    1343.0       -8.0        0.0               NaN  ...            0.0   \n",
       "\n",
       "        NAS_DELAY  SECURITY_DELAY  LATE_AIRCRAFT_DELAY  country_code  \\\n",
       "0             NaN             NaN                  NaN            US   \n",
       "1             NaN             NaN                  NaN            US   \n",
       "2             NaN             NaN                  NaN            US   \n",
       "3           130.0             0.0                  0.0            US   \n",
       "4             NaN             NaN                  NaN            US   \n",
       "...           ...             ...                  ...           ...   \n",
       "585733        NaN             NaN                  NaN            US   \n",
       "585734        NaN             NaN                  NaN            US   \n",
       "585735        NaN             NaN                  NaN            US   \n",
       "585736        NaN             NaN                  NaN            US   \n",
       "585737       18.0             0.0                  0.0            US   \n",
       "\n",
       "          airport_name  dest_longitude  dest_latitude  org_longitude  \\\n",
       "0       Mc Carran Intl     -115.152250      36.080056     -87.904842   \n",
       "1       Mc Carran Intl     -115.152250      36.080056     -87.904842   \n",
       "2       Mc Carran Intl     -115.152250      36.080056     -87.904842   \n",
       "3       Mc Carran Intl     -115.152250      36.080056     -87.904842   \n",
       "4       Mc Carran Intl     -115.152250      36.080056     -87.904842   \n",
       "...                ...             ...            ...            ...   \n",
       "585733     Valley Intl      -97.654389      26.228500     -87.904842   \n",
       "585734     Valley Intl      -97.654389      26.228500     -87.904842   \n",
       "585735     Valley Intl      -97.654389      26.228500     -87.904842   \n",
       "585736     Valley Intl      -97.654389      26.228500     -87.904842   \n",
       "585737     Valley Intl      -97.654389      26.228500     -87.904842   \n",
       "\n",
       "        org_latitude  \n",
       "0          41.978603  \n",
       "1          41.978603  \n",
       "2          41.978603  \n",
       "3          41.978603  \n",
       "4          41.978603  \n",
       "...              ...  \n",
       "585733     41.978603  \n",
       "585734     41.978603  \n",
       "585735     41.978603  \n",
       "585736     41.978603  \n",
       "585737     41.978603  \n",
       "\n",
       "[585738 rows x 26 columns]"
      ],
      "text/html": "<div>\n<style scoped>\n    .dataframe tbody tr th:only-of-type {\n        vertical-align: middle;\n    }\n\n    .dataframe tbody tr th {\n        vertical-align: top;\n    }\n\n    .dataframe thead th {\n        text-align: right;\n    }\n</style>\n<table border=\"1\" class=\"dataframe\">\n  <thead>\n    <tr style=\"text-align: right;\">\n      <th></th>\n      <th>FL_DATE</th>\n      <th>OP_CARRIER</th>\n      <th>OP_CARRIER_FL_NUM</th>\n      <th>ORIGIN</th>\n      <th>DEST</th>\n      <th>CRS_DEP_TIME</th>\n      <th>DEP_TIME</th>\n      <th>DEP_DELAY</th>\n      <th>CANCELLED</th>\n      <th>CANCELLATION_CODE</th>\n      <th>...</th>\n      <th>WEATHER_DELAY</th>\n      <th>NAS_DELAY</th>\n      <th>SECURITY_DELAY</th>\n      <th>LATE_AIRCRAFT_DELAY</th>\n      <th>country_code</th>\n      <th>airport_name</th>\n      <th>dest_longitude</th>\n      <th>dest_latitude</th>\n      <th>org_longitude</th>\n      <th>org_latitude</th>\n    </tr>\n  </thead>\n  <tbody>\n    <tr>\n      <th>0</th>\n      <td>2017-01-01</td>\n      <td>AA</td>\n      <td>25</td>\n      <td>ORD</td>\n      <td>LAS</td>\n      <td>1705</td>\n      <td>1707.0</td>\n      <td>2.0</td>\n      <td>0.0</td>\n      <td>NaN</td>\n      <td>...</td>\n      <td>NaN</td>\n      <td>NaN</td>\n      <td>NaN</td>\n      <td>NaN</td>\n      <td>US</td>\n      <td>Mc Carran Intl</td>\n      <td>-115.152250</td>\n      <td>36.080056</td>\n      <td>-87.904842</td>\n      <td>41.978603</td>\n    </tr>\n    <tr>\n      <th>1</th>\n      <td>2017-01-01</td>\n      <td>AA</td>\n      <td>300</td>\n      <td>ORD</td>\n      <td>LAS</td>\n      <td>1235</td>\n      <td>1232.0</td>\n      <td>-3.0</td>\n      <td>0.0</td>\n      <td>NaN</td>\n      <td>...</td>\n      <td>NaN</td>\n      <td>NaN</td>\n      <td>NaN</td>\n      <td>NaN</td>\n      <td>US</td>\n      <td>Mc Carran Intl</td>\n      <td>-115.152250</td>\n      <td>36.080056</td>\n      <td>-87.904842</td>\n      <td>41.978603</td>\n    </tr>\n    <tr>\n      <th>2</th>\n      <td>2017-01-01</td>\n      <td>NK</td>\n      <td>245</td>\n      <td>ORD</td>\n      <td>LAS</td>\n      <td>1518</td>\n      <td>1507.0</td>\n      <td>-11.0</td>\n      <td>0.0</td>\n      <td>NaN</td>\n      <td>...</td>\n      <td>NaN</td>\n      <td>NaN</td>\n      <td>NaN</td>\n      <td>NaN</td>\n      <td>US</td>\n      <td>Mc Carran Intl</td>\n      <td>-115.152250</td>\n      <td>36.080056</td>\n      <td>-87.904842</td>\n      <td>41.978603</td>\n    </tr>\n    <tr>\n      <th>3</th>\n      <td>2017-01-01</td>\n      <td>NK</td>\n      <td>357</td>\n      <td>ORD</td>\n      <td>LAS</td>\n      <td>927</td>\n      <td>1204.0</td>\n      <td>157.0</td>\n      <td>0.0</td>\n      <td>NaN</td>\n      <td>...</td>\n      <td>0.0</td>\n      <td>130.0</td>\n      <td>0.0</td>\n      <td>0.0</td>\n      <td>US</td>\n      <td>Mc Carran Intl</td>\n      <td>-115.152250</td>\n      <td>36.080056</td>\n      <td>-87.904842</td>\n      <td>41.978603</td>\n    </tr>\n    <tr>\n      <th>4</th>\n      <td>2017-01-01</td>\n      <td>UA</td>\n      <td>599</td>\n      <td>ORD</td>\n      <td>LAS</td>\n      <td>1940</td>\n      <td>1945.0</td>\n      <td>5.0</td>\n      <td>0.0</td>\n      <td>NaN</td>\n      <td>...</td>\n      <td>NaN</td>\n      <td>NaN</td>\n      <td>NaN</td>\n      <td>NaN</td>\n      <td>US</td>\n      <td>Mc Carran Intl</td>\n      <td>-115.152250</td>\n      <td>36.080056</td>\n      <td>-87.904842</td>\n      <td>41.978603</td>\n    </tr>\n    <tr>\n      <th>...</th>\n      <td>...</td>\n      <td>...</td>\n      <td>...</td>\n      <td>...</td>\n      <td>...</td>\n      <td>...</td>\n      <td>...</td>\n      <td>...</td>\n      <td>...</td>\n      <td>...</td>\n      <td>...</td>\n      <td>...</td>\n      <td>...</td>\n      <td>...</td>\n      <td>...</td>\n      <td>...</td>\n      <td>...</td>\n      <td>...</td>\n      <td>...</td>\n      <td>...</td>\n      <td>...</td>\n    </tr>\n    <tr>\n      <th>585733</th>\n      <td>2018-12-15</td>\n      <td>F9</td>\n      <td>1311</td>\n      <td>ORD</td>\n      <td>HRL</td>\n      <td>1351</td>\n      <td>1342.0</td>\n      <td>-9.0</td>\n      <td>0.0</td>\n      <td>NaN</td>\n      <td>...</td>\n      <td>NaN</td>\n      <td>NaN</td>\n      <td>NaN</td>\n      <td>NaN</td>\n      <td>US</td>\n      <td>Valley Intl</td>\n      <td>-97.654389</td>\n      <td>26.228500</td>\n      <td>-87.904842</td>\n      <td>41.978603</td>\n    </tr>\n    <tr>\n      <th>585734</th>\n      <td>2018-12-19</td>\n      <td>F9</td>\n      <td>1311</td>\n      <td>ORD</td>\n      <td>HRL</td>\n      <td>1351</td>\n      <td>1345.0</td>\n      <td>-6.0</td>\n      <td>0.0</td>\n      <td>NaN</td>\n      <td>...</td>\n      <td>NaN</td>\n      <td>NaN</td>\n      <td>NaN</td>\n      <td>NaN</td>\n      <td>US</td>\n      <td>Valley Intl</td>\n      <td>-97.654389</td>\n      <td>26.228500</td>\n      <td>-87.904842</td>\n      <td>41.978603</td>\n    </tr>\n    <tr>\n      <th>585735</th>\n      <td>2018-12-22</td>\n      <td>F9</td>\n      <td>1311</td>\n      <td>ORD</td>\n      <td>HRL</td>\n      <td>1351</td>\n      <td>1338.0</td>\n      <td>-13.0</td>\n      <td>0.0</td>\n      <td>NaN</td>\n      <td>...</td>\n      <td>NaN</td>\n      <td>NaN</td>\n      <td>NaN</td>\n      <td>NaN</td>\n      <td>US</td>\n      <td>Valley Intl</td>\n      <td>-97.654389</td>\n      <td>26.228500</td>\n      <td>-87.904842</td>\n      <td>41.978603</td>\n    </tr>\n    <tr>\n      <th>585736</th>\n      <td>2018-12-26</td>\n      <td>F9</td>\n      <td>1311</td>\n      <td>ORD</td>\n      <td>HRL</td>\n      <td>1351</td>\n      <td>1341.0</td>\n      <td>-10.0</td>\n      <td>0.0</td>\n      <td>NaN</td>\n      <td>...</td>\n      <td>NaN</td>\n      <td>NaN</td>\n      <td>NaN</td>\n      <td>NaN</td>\n      <td>US</td>\n      <td>Valley Intl</td>\n      <td>-97.654389</td>\n      <td>26.228500</td>\n      <td>-87.904842</td>\n      <td>41.978603</td>\n    </tr>\n    <tr>\n      <th>585737</th>\n      <td>2018-12-29</td>\n      <td>F9</td>\n      <td>1311</td>\n      <td>ORD</td>\n      <td>HRL</td>\n      <td>1351</td>\n      <td>1343.0</td>\n      <td>-8.0</td>\n      <td>0.0</td>\n      <td>NaN</td>\n      <td>...</td>\n      <td>0.0</td>\n      <td>18.0</td>\n      <td>0.0</td>\n      <td>0.0</td>\n      <td>US</td>\n      <td>Valley Intl</td>\n      <td>-97.654389</td>\n      <td>26.228500</td>\n      <td>-87.904842</td>\n      <td>41.978603</td>\n    </tr>\n  </tbody>\n</table>\n<p>585738 rows × 26 columns</p>\n</div>"
     },
     "metadata": {},
     "execution_count": 7
    }
   ],
   "source": [
    "# add ORD/origin lat and long (constant)\n",
    "\n",
    "df_ord_domflights['org_longitude']= '-87.904842'\n",
    "df_ord_domflights['org_latitude']= '41.978603'\n",
    "\n",
    "df_ord_domflights\n"
   ]
  },
  {
   "cell_type": "code",
   "execution_count": 8,
   "metadata": {},
   "outputs": [],
   "source": [
    "df_ord_domflights.to_csv('output_data.csv', index=False) "
   ]
  },
  {
   "cell_type": "code",
   "execution_count": 9,
   "metadata": {},
   "outputs": [
    {
     "output_type": "execute_result",
     "data": {
      "text/plain": [
       "       DEST  DISTANCE                         airport_name  dest_longitude  \\\n",
       "0       LAS    1514.0                       Mc Carran Intl     -115.152250   \n",
       "9442    SFO    1846.0                   San Francisco Intl     -122.374889   \n",
       "23707   TPA    1012.0                           Tampa Intl      -82.533250   \n",
       "29271   MCO    1005.0                         Orlando Intl      -81.308994   \n",
       "38877   PDX    1739.0                        Portland Intl     -122.597500   \n",
       "...     ...       ...                                  ...             ...   \n",
       "585536  ILM     760.0                      Wilmington Intl      -77.902569   \n",
       "585624  FAT    1730.0                 Fresno Yosemite Intl     -119.718140   \n",
       "585713  LFT     843.0                       Lafayette Rgnl      -91.987611   \n",
       "585714  BRO    1233.0  Brownsville South Padre Island Intl      -97.425861   \n",
       "585726  HRL    1219.0                          Valley Intl      -97.654389   \n",
       "\n",
       "        dest_latitude  \n",
       "0           36.080056  \n",
       "9442        37.618972  \n",
       "23707       27.975472  \n",
       "29271       28.429394  \n",
       "38877       45.588722  \n",
       "...               ...  \n",
       "585536      34.270615  \n",
       "585624      36.776194  \n",
       "585713      30.205278  \n",
       "585714      25.906833  \n",
       "585726      26.228500  \n",
       "\n",
       "[161 rows x 5 columns]"
      ],
      "text/html": "<div>\n<style scoped>\n    .dataframe tbody tr th:only-of-type {\n        vertical-align: middle;\n    }\n\n    .dataframe tbody tr th {\n        vertical-align: top;\n    }\n\n    .dataframe thead th {\n        text-align: right;\n    }\n</style>\n<table border=\"1\" class=\"dataframe\">\n  <thead>\n    <tr style=\"text-align: right;\">\n      <th></th>\n      <th>DEST</th>\n      <th>DISTANCE</th>\n      <th>airport_name</th>\n      <th>dest_longitude</th>\n      <th>dest_latitude</th>\n    </tr>\n  </thead>\n  <tbody>\n    <tr>\n      <th>0</th>\n      <td>LAS</td>\n      <td>1514.0</td>\n      <td>Mc Carran Intl</td>\n      <td>-115.152250</td>\n      <td>36.080056</td>\n    </tr>\n    <tr>\n      <th>9442</th>\n      <td>SFO</td>\n      <td>1846.0</td>\n      <td>San Francisco Intl</td>\n      <td>-122.374889</td>\n      <td>37.618972</td>\n    </tr>\n    <tr>\n      <th>23707</th>\n      <td>TPA</td>\n      <td>1012.0</td>\n      <td>Tampa Intl</td>\n      <td>-82.533250</td>\n      <td>27.975472</td>\n    </tr>\n    <tr>\n      <th>29271</th>\n      <td>MCO</td>\n      <td>1005.0</td>\n      <td>Orlando Intl</td>\n      <td>-81.308994</td>\n      <td>28.429394</td>\n    </tr>\n    <tr>\n      <th>38877</th>\n      <td>PDX</td>\n      <td>1739.0</td>\n      <td>Portland Intl</td>\n      <td>-122.597500</td>\n      <td>45.588722</td>\n    </tr>\n    <tr>\n      <th>...</th>\n      <td>...</td>\n      <td>...</td>\n      <td>...</td>\n      <td>...</td>\n      <td>...</td>\n    </tr>\n    <tr>\n      <th>585536</th>\n      <td>ILM</td>\n      <td>760.0</td>\n      <td>Wilmington Intl</td>\n      <td>-77.902569</td>\n      <td>34.270615</td>\n    </tr>\n    <tr>\n      <th>585624</th>\n      <td>FAT</td>\n      <td>1730.0</td>\n      <td>Fresno Yosemite Intl</td>\n      <td>-119.718140</td>\n      <td>36.776194</td>\n    </tr>\n    <tr>\n      <th>585713</th>\n      <td>LFT</td>\n      <td>843.0</td>\n      <td>Lafayette Rgnl</td>\n      <td>-91.987611</td>\n      <td>30.205278</td>\n    </tr>\n    <tr>\n      <th>585714</th>\n      <td>BRO</td>\n      <td>1233.0</td>\n      <td>Brownsville South Padre Island Intl</td>\n      <td>-97.425861</td>\n      <td>25.906833</td>\n    </tr>\n    <tr>\n      <th>585726</th>\n      <td>HRL</td>\n      <td>1219.0</td>\n      <td>Valley Intl</td>\n      <td>-97.654389</td>\n      <td>26.228500</td>\n    </tr>\n  </tbody>\n</table>\n<p>161 rows × 5 columns</p>\n</div>"
     },
     "metadata": {},
     "execution_count": 9
    }
   ],
   "source": [
    "airport_dropdown_df = df_ord_domflights[[\"DEST\", \"DISTANCE\", \"airport_name\",\"dest_longitude\",\"dest_latitude\"]].drop_duplicates(subset=['DEST'])\n",
    "\n",
    "airport_dropdown_df"
   ]
  },
  {
   "cell_type": "code",
   "execution_count": 10,
   "metadata": {},
   "outputs": [],
   "source": [
    "from sqlalchemy import create_engine\n"
   ]
  },
  {
   "cell_type": "code",
   "execution_count": 11,
   "metadata": {},
   "outputs": [],
   "source": [
    "from sqlalchemy.ext.declarative import declarative_base\n",
    "Base = declarative_base()"
   ]
  },
  {
   "cell_type": "code",
   "execution_count": 12,
   "metadata": {},
   "outputs": [],
   "source": [
    "from sqlalchemy import Column, Integer, String, Float"
   ]
  },
  {
   "cell_type": "code",
   "execution_count": 13,
   "metadata": {},
   "outputs": [],
   "source": [
    "class Destinations(Base):\n",
    "    __tablename__ = 'dest_airports'\n",
    "    primary_id = Column(Integer, primary_key=True)\n",
    "    DEST = Column(String(10))\n",
    "    DISTANCE = Column(Float)\n",
    "    airport_name = Column(String(50))\n",
    "    dest_longitude = Column(Float)\n",
    "    dest_latitude = Column(Float)\n",
    "    "
   ]
  },
  {
   "cell_type": "code",
   "execution_count": 14,
   "metadata": {},
   "outputs": [],
   "source": [
    "# Create Database Connection\n",
    "# ----------------------------------\n",
    "# Establish Connection\n",
    "engine = create_engine(\"sqlite:///dest_airports.sqlite\")\n",
    "conn = engine.connect()"
   ]
  },
  {
   "cell_type": "code",
   "execution_count": 15,
   "metadata": {},
   "outputs": [],
   "source": [
    "# Create the olympics tables within the database\n",
    "Base.metadata.create_all(conn)"
   ]
  },
  {
   "cell_type": "code",
   "execution_count": 16,
   "metadata": {},
   "outputs": [],
   "source": [
    "# To create Session object\n",
    "from sqlalchemy.orm import Session\n",
    "session = Session(bind=engine)"
   ]
  },
  {
   "cell_type": "code",
   "execution_count": 17,
   "metadata": {},
   "outputs": [],
   "source": [
    "# load df to SQL\n",
    "\n",
    "airport_dropdown_df.to_sql('dest_airports', conn, if_exists='append', index = False)"
   ]
  },
  {
   "cell_type": "code",
   "execution_count": 18,
   "metadata": {
    "tags": []
   },
   "outputs": [
    {
     "output_type": "stream",
     "name": "stdout",
     "text": [
      "1\n2\n3\n4\n5\n6\n7\n8\n9\n10\n11\n12\n13\n14\n15\n16\n17\n18\n19\n20\n21\n22\n23\n24\n25\n26\n27\n28\n29\n30\n31\n32\n33\n34\n35\n36\n37\n38\n39\n40\n41\n42\n43\n44\n45\n46\n47\n48\n49\n50\n51\n52\n53\n54\n55\n56\n57\n58\n59\n60\n61\n62\n63\n64\n65\n66\n67\n68\n69\n70\n71\n72\n73\n74\n75\n76\n77\n78\n79\n80\n81\n82\n83\n84\n85\n86\n87\n88\n89\n90\n91\n92\n93\n94\n95\n96\n97\n98\n99\n100\n101\n102\n103\n104\n105\n106\n107\n108\n109\n110\n111\n112\n113\n114\n115\n116\n117\n118\n119\n120\n121\n122\n123\n124\n125\n126\n127\n128\n129\n130\n131\n132\n133\n134\n135\n136\n137\n138\n139\n140\n141\n142\n143\n144\n145\n146\n147\n148\n149\n150\n151\n152\n153\n154\n155\n156\n157\n158\n159\n160\n161\n"
     ]
    }
   ],
   "source": [
    "# Query the database and collect all of the primary IDs in the olympics table\n",
    "airport_list = session.query(Destinations)\n",
    "for airport in airport_list:\n",
    "    print(airport.primary_id)"
   ]
  },
  {
   "cell_type": "code",
   "execution_count": null,
   "metadata": {},
   "outputs": [],
   "source": []
  }
 ]
}